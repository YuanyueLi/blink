{
 "cells": [
  {
   "cell_type": "markdown",
   "id": "ae6a32d7-46f1-4d58-911b-8deee603393d",
   "metadata": {},
   "source": [
    "# BLINK / MatchMS Speed Benchmarking"
   ]
  },
  {
   "cell_type": "code",
   "execution_count": 1,
   "id": "2cb75c0b-8d06-464d-a756-8068c9c5351c",
   "metadata": {},
   "outputs": [
    {
     "data": {
      "text/html": [
       "<style>.container { width:100% !important; }</style>"
      ],
      "text/plain": [
       "<IPython.core.display.HTML object>"
      ]
     },
     "metadata": {},
     "output_type": "display_data"
    }
   ],
   "source": [
    "from IPython.core.display import display, HTML\n",
    "display(HTML(\"<style>.container { width:100% !important; }</style>\"))\n",
    "\n",
    "import sys\n",
    "sys.path.insert(0, '../')\n",
    "\n",
    "import blink\n",
    "\n",
    "import time\n",
    "import numpy as np\n",
    "import pandas as pd\n",
    "import matplotlib.pyplot as plt\n",
    "\n",
    "import matchms as mms\n",
    "from matchms.similarity import CosineGreedy, ModifiedCosine"
   ]
  },
  {
   "cell_type": "markdown",
   "id": "787c0d25-e5ac-4d91-bae5-f2475c618671",
   "metadata": {},
   "source": [
    "# Load Test Data"
   ]
  },
  {
   "cell_type": "code",
   "execution_count": 2,
   "id": "a2e1a898-cb63-4b18-9c3b-5f816497ba73",
   "metadata": {},
   "outputs": [],
   "source": [
    "gnps_all = blink.open_msms_file('/global/cfs/cdirs/metatlas/projects/spectral_libraries/ALL_GNPS_20221017.mgf')\n",
    "gnps_all['precursor_mz'] = gnps_all['precursor_mz'][gnps_all.precursor_mz > 60]"
   ]
  },
  {
   "cell_type": "code",
   "execution_count": 3,
   "id": "bd22a6cc-292c-46fe-9ddd-d0f26a353555",
   "metadata": {},
   "outputs": [],
   "source": [
    "def create_mms_spectra(row):\n",
    "    \"\"\"\n",
    "    create MatchMS formated spectra\n",
    "    \"\"\"\n",
    "    cols = ['name', 'precursor_mz','inchi', 'smiles', 'spectrumid']\n",
    "    metadata = row[cols].to_dict()\n",
    "    spectrum = mms.Spectrum(mz=np.array(row['spectrum'][0], dtype=\"float\"), intensities=np.array(row['spectrum'][1], dtype=\"float\"), metadata=metadata)\n",
    "    \n",
    "    return spectrum\n",
    "\n",
    "def generate_sample_spectra(query_size, ref_size, msms_library=gnps_all):\n",
    "    \"\"\"\n",
    "    sample spectra from test library\n",
    "    \"\"\"\n",
    "    query_sample = msms_library.sample(query_size)\n",
    "    ref_sample = msms_library.sample(ref_size)\n",
    "    \n",
    "    return query_sample, ref_sample"
   ]
  },
  {
   "cell_type": "markdown",
   "id": "cca4d3a3-552f-4a11-9ee3-dfcb85fc849f",
   "metadata": {
    "tags": []
   },
   "source": [
    "# Speed Comparison"
   ]
  },
  {
   "cell_type": "markdown",
   "id": "7bae0d7d-8f7e-4ce3-b4b0-6e79638b248b",
   "metadata": {},
   "source": [
    "### Define Speed Benchmarking Parameters"
   ]
  },
  {
   "cell_type": "code",
   "execution_count": 4,
   "id": "4543af32-2c1f-46e5-822a-2efefea30d96",
   "metadata": {},
   "outputs": [],
   "source": [
    "#Loop parameters\n",
    "iteration_num = 4\n",
    "replicate_num = 3\n",
    "increment_mult = 10\n",
    "initial_query_size = 100\n",
    "initial_ref_size = 100\n",
    "\n",
    "#MatchMS parameters\n",
    "cos = CosineGreedy(tolerance=0.00099, intensity_power=0.5)\n",
    "mod = ModifiedCosine(tolerance=0.00099, intensity_power=0.5)\n",
    "\n",
    "#BLINK parameters\n",
    "bin_width = 0.0001\n",
    "tolerance = 0.001"
   ]
  },
  {
   "cell_type": "markdown",
   "id": "95af72b8-0324-4f68-a511-f55fa6b4e3e6",
   "metadata": {},
   "source": [
    "### Compute Comparison"
   ]
  },
  {
   "cell_type": "code",
   "execution_count": null,
   "id": "68961c35-0698-424f-975a-68afeb99460d",
   "metadata": {},
   "outputs": [
    {
     "name": "stderr",
     "output_type": "stream",
     "text": [
      "../blink.py:91: RuntimeWarning: divide by zero encountered in double_scalars\n",
      "  inorm = np.array([1./np.linalg.norm(mzi[1]**intensity_power) for mzi in mzis])\n",
      "../blink.py:91: RuntimeWarning: divide by zero encountered in double_scalars\n",
      "  inorm = np.array([1./np.linalg.norm(mzi[1]**intensity_power) for mzi in mzis])\n",
      "../blink.py:91: RuntimeWarning: divide by zero encountered in double_scalars\n",
      "  inorm = np.array([1./np.linalg.norm(mzi[1]**intensity_power) for mzi in mzis])\n"
     ]
    }
   ],
   "source": [
    "index = 0\n",
    "replicate = 1\n",
    "speed_test_results = {'query_spectra_num':{}, 'ref_spectra_num':{}, 'blink_time':{}, 'mms_time':{}, 'replicate':{}}\n",
    "\n",
    "while replicate <= replicate_num:\n",
    "    \n",
    "    iteration = 1\n",
    "    query_size = initial_query_size\n",
    "    ref_size = initial_ref_size\n",
    "    \n",
    "    while iteration <= iteration_num: \n",
    "\n",
    "        query_sample, ref_sample = generate_sample_spectra(query_size, ref_size)\n",
    "\n",
    "        S1 = blink.discretize_spectra(query_sample.spectrum,  query_sample.precursor_mz,  intensity_power=0.5, calc_network_score=False, bin_width=bin_width)\n",
    "        S2 = blink.discretize_spectra(ref_sample.spectrum, ref_sample.precursor_mz, intensity_power=0.5, calc_network_score=False, bin_width=bin_width)\n",
    "\n",
    "        MMS1 = query_sample.apply(lambda x: create_mms_spectra(x), axis=1)\n",
    "        MMS2 = ref_sample.apply(lambda x: create_mms_spectra(x), axis=1)\n",
    "\n",
    "        t0 = time.time()\n",
    "        S12 = blink.score_sparse_spectra(S1, S2, tolerance=tolerance, calc_network_score=False)\n",
    "        t1 = time.time()\n",
    "\n",
    "        blink_time = t1 - t0\n",
    "\n",
    "        t2 = time.time()\n",
    "        MMS12 = cos.matrix(references=MMS1, queries=MMS2)\n",
    "        t3 = time.time()\n",
    "\n",
    "        mms_time = t3 - t2\n",
    "\n",
    "        speed_test_results['query_spectra_num'][index] = query_size\n",
    "        speed_test_results['ref_spectra_num'][index] = ref_size\n",
    "        speed_test_results['replicate'][index] = replicate\n",
    "        speed_test_results['blink_time'][index] = blink_time\n",
    "        speed_test_results['mms_time'][index] = mms_time\n",
    "\n",
    "        query_size = query_size * increment_mult\n",
    "        ref_size = ref_size * increment_mult\n",
    "\n",
    "        index += 1\n",
    "        iteration += 1\n",
    "        \n",
    "    replicate += 1\n",
    "        \n",
    "df = pd.DataFrame.from_dict(speed_test_results, orient='columns')\n",
    "df['comparisons'] = df['query_spectra_num'] * df['ref_spectra_num']"
   ]
  },
  {
   "cell_type": "markdown",
   "id": "1945b17a-4b74-40be-abbc-774d8959969d",
   "metadata": {},
   "source": [
    "### Save & Plot Results"
   ]
  },
  {
   "cell_type": "code",
   "execution_count": null,
   "id": "602c082e-f5c4-4c7e-a260-8d0bcd1bef2e",
   "metadata": {},
   "outputs": [],
   "source": [
    "plot_df = df.groupby('comparisons')[['blink_time', 'mms_time']].median()\n",
    "plot_df.reset_index(inplace=True)\n",
    "\n",
    "plt.plot(plot_df['comparisons'], plot_df['blink_time'], '-o', label='BLINK')\n",
    "plt.plot(plot_df['comparisons'], plot_df['mms_time'], '-o', label='MatchMS')\n",
    "\n",
    "plt.ylabel('Compute Time (seconds)')\n",
    "plt.xlabel('# Comparisons')\n",
    "plt.yscale('log')\n",
    "plt.xscale('log')\n",
    "plt.legend()\n",
    "plt.show()"
   ]
  },
  {
   "cell_type": "code",
   "execution_count": null,
   "id": "993c912d-10d1-4db3-a0dd-b367792ef381",
   "metadata": {},
   "outputs": [],
   "source": [
    "df.to_csv('cos_speed_benchmarking.csv')"
   ]
  },
  {
   "cell_type": "code",
   "execution_count": null,
   "id": "660ff723-ce27-4a44-a691-106fba4e5f4d",
   "metadata": {},
   "outputs": [],
   "source": []
  }
 ],
 "metadata": {
  "kernelspec": {
   "display_name": "blink-env",
   "language": "python",
   "name": "blink-env"
  },
  "language_info": {
   "codemirror_mode": {
    "name": "ipython",
    "version": 3
   },
   "file_extension": ".py",
   "mimetype": "text/x-python",
   "name": "python",
   "nbconvert_exporter": "python",
   "pygments_lexer": "ipython3",
   "version": "3.7.13"
  }
 },
 "nbformat": 4,
 "nbformat_minor": 5
}
