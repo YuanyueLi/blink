{
 "cells": [
  {
   "cell_type": "markdown",
   "id": "3b0ad6f0-dddc-4b32-9bac-a12dee1899c6",
   "metadata": {},
   "source": [
    "# BLINK Accuracy Benchmarking"
   ]
  },
  {
   "cell_type": "code",
   "execution_count": 1,
   "id": "filled-lottery",
   "metadata": {},
   "outputs": [
    {
     "data": {
      "text/html": [
       "<style>.container { width:100% !important; }</style>"
      ],
      "text/plain": [
       "<IPython.core.display.HTML object>"
      ]
     },
     "metadata": {},
     "output_type": "display_data"
    }
   ],
   "source": [
    "from IPython.core.display import display, HTML\n",
    "display(HTML(\"<style>.container { width:100% !important; }</style>\"))\n",
    "\n",
    "import sys\n",
    "sys.path.insert(0, '../')\n",
    "\n",
    "import blink\n",
    "\n",
    "import matchms as mms\n",
    "from matchms.exporting import save_as_mgf\n",
    "from matchms.similarity import CosineGreedy, ModifiedCosine\n",
    "\n",
    "import pandas as pd\n",
    "import numpy as np\n",
    "\n",
    "from matplotlib import pyplot as plt\n",
    "import seaborn as sns\n",
    "\n",
    "import matplotlib\n",
    "matplotlib.rcParams['pdf.fonttype'] = 42\n",
    "matplotlib.rcParams['ps.fonttype'] = 42"
   ]
  },
  {
   "cell_type": "code",
   "execution_count": 2,
   "id": "845fda24-16d7-4580-be48-33b091f234fc",
   "metadata": {},
   "outputs": [],
   "source": [
    "def create_mms_spectra(row):\n",
    "    \"\"\"\n",
    "    create MatchMS formated spectra\n",
    "    \"\"\"\n",
    "    cols = ['name', 'precursor_mz','inchi', 'smiles', 'spectrumid']\n",
    "    metadata = row[cols].to_dict()\n",
    "    spectrum = mms.Spectrum(mz=np.array(row['spectrum'][0], dtype=\"float\"), intensities=np.array(row['spectrum'][1], dtype=\"float\"), metadata=metadata)\n",
    "    \n",
    "    return spectrum\n",
    "\n",
    "def filter_spectra(row, decimal=4):\n",
    "    \"\"\"\n",
    "    filter noise ions and round m/z values to a consistent decimal place\n",
    "    \"\"\"\n",
    "    idx = np.argwhere(abs(row['spectrum'][0]-row['precursor_mz'])>14).flatten()\n",
    "    filtered_spectrum = row['spectrum'][:,idx]\n",
    "    filtered_spectrum = filtered_spectrum.round(decimal)\n",
    "    \n",
    "    return filtered_spectrum"
   ]
  },
  {
   "cell_type": "markdown",
   "id": "3cd9a4c1-62b3-44d4-9bb0-9a21deb70989",
   "metadata": {},
   "source": [
    "# Generate Test Data"
   ]
  },
  {
   "cell_type": "code",
   "execution_count": 3,
   "id": "16531c1b-79ec-4ff6-b20e-2d3fe549f254",
   "metadata": {},
   "outputs": [
    {
     "name": "stderr",
     "output_type": "stream",
     "text": [
      "/global/homes/t/tharwood/.conda/envs/blink-env/lib/python3.7/site-packages/pyteomics/auxiliary/file_helpers.py:595: FutureWarning: Opening an existing file in append mode. The default mode will change from 'a' to 'w' in a future version. Pass `file_mode='a'` to keep old behavior and suppress this warning.\n",
      "  \"Pass `file_mode='a'` to keep old behavior and suppress this warning.\", FutureWarning)\n"
     ]
    }
   ],
   "source": [
    "#load test spectra with blink\n",
    "berkeley_lab_spectra = blink.open_msms_file('/global/homes/t/tharwood/spectral_libraries/BERKELEY-LAB.mgf')\n",
    "\n",
    "#sample spectra for 1 million comparisons\n",
    "small_mgf = berkeley_lab_spectra.sample(1000)\n",
    "medium_mgf = berkeley_lab_spectra.sample(10000)\n",
    "\n",
    "#format spectra for MatchMS\n",
    "small_spectra = small_mgf.apply(lambda x: create_mms_spectra(x), axis=1)\n",
    "small_spectra = small_spectra.tolist()\n",
    "\n",
    "medium_spectra = medium_mgf.apply(lambda x: create_mms_spectra(x), axis=1)\n",
    "medium_spectra = medium_spectra.tolist()\n",
    "\n",
    "#save spectra\n",
    "save_as_mgf(small_spectra, 'accuracy_test_data/small.mgf')\n",
    "save_as_mgf(medium_spectra, 'accuracy_test_data/medium.mgf')"
   ]
  },
  {
   "cell_type": "markdown",
   "id": "raising-medicine",
   "metadata": {},
   "source": [
    "# Load & Filter Test Data"
   ]
  },
  {
   "cell_type": "code",
   "execution_count": 4,
   "id": "written-payroll",
   "metadata": {},
   "outputs": [
    {
     "name": "stderr",
     "output_type": "stream",
     "text": [
      "../blink.py:58: SettingWithCopyWarning: \n",
      "A value is trying to be set on a copy of a slice from a DataFrame\n",
      "\n",
      "See the caveats in the documentation: https://pandas.pydata.org/pandas-docs/stable/user_guide/indexing.html#returning-a-view-versus-a-copy\n",
      "  mzis[bad_idx] = np.asarray([mz,intensity])\n"
     ]
    }
   ],
   "source": [
    "small  = blink.open_msms_file('accuracy_test_data/small.mgf')\n",
    "medium = blink.open_msms_file('accuracy_test_data/medium.mgf')\n",
    "\n",
    "#remove all zero intensity ions\n",
    "small.spectrum = blink.filter_spectra(small.spectrum, small.precursor_mz)\n",
    "medium.spectrum = blink.filter_spectra(medium.spectrum, medium.precursor_mz)\n",
    "\n",
    "#remove ions within m/z tolerance of one another in spectrum\n",
    "small.spectrum = blink.remove_duplicate_ions(small.spectrum)\n",
    "medium.spectrum = blink.remove_duplicate_ions(medium.spectrum)\n",
    "\n",
    "#filter and round m/z values using function defined in cell 2\n",
    "small.spectrum = small.apply(lambda x: filter_spectra(x), axis=1)\n",
    "medium.spectrum = medium.apply(lambda x: filter_spectra(x), axis=1)\n",
    "\n",
    "#convert spectra into BLINK sparse matrix format\n",
    "S1 = blink.discretize_spectra(small.spectrum,  small.precursor_mz,  intensity_power=0.5, bin_width=0.0001)\n",
    "S2 = blink.discretize_spectra(medium.spectrum, medium.precursor_mz, intensity_power=0.5, bin_width=0.0001)"
   ]
  },
  {
   "cell_type": "markdown",
   "id": "a2ab25e8-6cd2-4b83-b5fd-9d6190cf762c",
   "metadata": {},
   "source": [
    "# Make 1 Million Comparisons Using BLINK"
   ]
  },
  {
   "cell_type": "code",
   "execution_count": 5,
   "id": "solved-kingston",
   "metadata": {},
   "outputs": [
    {
     "name": "stdout",
     "output_type": "stream",
     "text": [
      "CPU times: user 313 ms, sys: 40.2 ms, total: 353 ms\n",
      "Wall time: 352 ms\n"
     ]
    }
   ],
   "source": [
    "%%time\n",
    "S12 = blink.score_sparse_spectra(S1, S2, tolerance=0.001)"
   ]
  },
  {
   "cell_type": "markdown",
   "id": "b06ee98b-7682-44d7-966a-826b6a3cbcbb",
   "metadata": {},
   "source": [
    "# Make Same Comparisons Using MatchMS"
   ]
  },
  {
   "cell_type": "code",
   "execution_count": 6,
   "id": "a1fd0d07",
   "metadata": {},
   "outputs": [],
   "source": [
    "#format spectra for MatchMS\n",
    "MMS1 = small.apply(lambda x: create_mms_spectra(x), axis=1)\n",
    "MMS2 = medium.apply(lambda x: create_mms_spectra(x), axis=1)\n",
    "\n",
    "#MatchMS parameters\n",
    "cos = CosineGreedy(tolerance=0.00099,intensity_power=0.5)\n",
    "mod = ModifiedCosine(tolerance=0.00099,intensity_power=0.5)"
   ]
  },
  {
   "cell_type": "code",
   "execution_count": 7,
   "id": "adjacent-marketing",
   "metadata": {},
   "outputs": [
    {
     "name": "stdout",
     "output_type": "stream",
     "text": [
      "CPU times: user 10min 53s, sys: 119 ms, total: 10min 53s\n",
      "Wall time: 10min 53s\n"
     ]
    }
   ],
   "source": [
    "%%time\n",
    "MMS12 = {}\n",
    "MMS12['cos'] = cos.matrix(references=MMS1, queries=MMS2)\n",
    "MMS12['mod'] = mod.matrix(references=MMS1, queries=MMS2)"
   ]
  },
  {
   "cell_type": "markdown",
   "id": "76a88e71-cb5c-478b-8ff6-3de960465e23",
   "metadata": {},
   "source": [
    "# Visualize & Save Results"
   ]
  },
  {
   "cell_type": "code",
   "execution_count": 8,
   "id": "crude-wells",
   "metadata": {},
   "outputs": [
    {
     "data": {
      "text/plain": [
       "<matplotlib.legend.Legend at 0x1554878aebd0>"
      ]
     },
     "execution_count": 8,
     "metadata": {},
     "output_type": "execute_result"
    },
    {
     "data": {
      "image/png": "[encoded data removed]",
      "text/plain": [
       "<Figure size 1200x600 with 2 Axes>"
      ]
     },
     "metadata": {},
     "output_type": "display_data"
    }
   ],
   "source": [
    "%matplotlib inline\n",
    "fig, ax = plt.subplots(figsize=(12, 6),nrows=1,ncols=2)\n",
    "ax = ax.flatten()\n",
    "\n",
    "x = MMS12['cos']['score'].flatten()\n",
    "y = S12['mzi'].toarray().flatten()\n",
    "\n",
    "# one or both have to be non-zero\n",
    "idx = (x*y)>0\n",
    "x = x[idx]\n",
    "y = y[idx]\n",
    "nonzero_score = len(x)\n",
    "\n",
    "# indices that are more than 1% different\n",
    "idx_diff = abs(x-y)>0.0001\n",
    "different_score = sum(idx_diff)\n",
    "\n",
    "# median difference of scores score more than 1% different\n",
    "if different_score > 0:\n",
    "    diff = (x[idx_diff] - y[idx_diff])\n",
    "    median_diff_score = np.median(diff)\n",
    "else:\n",
    "    median_diff_score = 0\n",
    "\n",
    "ax[0].plot(x[idx_diff], y[idx_diff],'.', markersize=20, alpha=0.6,label='Unequal: %.4f%%'%(100*different_score/nonzero_score), color='#ff7f0e')\n",
    "ax[0].plot(x[~idx_diff], y[~idx_diff], '.',markersize=20, alpha=0.6, label='Equal: %.4f%%'%(100*(nonzero_score-different_score)/nonzero_score), color='#1f77b4')\n",
    "ax[0].set_xlabel('MatchMS Score',fontsize=20)\n",
    "ax[0].set_ylabel('BLINK Score',fontsize=20)\n",
    "ax[0].legend()\n",
    "\n",
    "x = MMS12['cos']['matches'].flatten()\n",
    "y = S12['mzc'].toarray().flatten()\n",
    "\n",
    "# one or both have to be non-zero\n",
    "idx = (x*y)>0\n",
    "x = x[idx]\n",
    "y = y[idx]\n",
    "nonzero_matches = len(x)\n",
    "\n",
    "# indices where match counts don't agree\n",
    "idx_diff = abs(x-y)>0\n",
    "different_matches = sum(idx_diff)\n",
    "\n",
    "# median difference of different matches \n",
    "if different_matches > 0:\n",
    "    diff = (x[idx_diff] - y[idx_diff])\n",
    "    median_diff_matches = np.median(diff)\n",
    "else:\n",
    "    median_diff_matches = 0\n",
    "\n",
    "ax[1].plot(x[idx_diff], y[idx_diff],'.', markersize=20, alpha=0.6,label='Unequal: %.4f%%'%(100*different_matches/nonzero_matches), color='#ff7f0e')\n",
    "ax[1].plot(x[~idx_diff], y[~idx_diff], '.',markersize=20, alpha=0.6, label='Equal: %.4f%%'%(100*(nonzero_matches-different_matches)/nonzero_matches), color='#1f77b4')\n",
    "ax[1].set_xlabel('MatchMS Matching Ions',fontsize=20)\n",
    "ax[1].set_ylabel('BLINK Matching Ions',fontsize=20)\n",
    "ax[1].legend()\n",
    "\n",
    "# fig.savefig('cos_accuracy_benchmarking.pdf')"
   ]
  },
  {
   "cell_type": "code",
   "execution_count": 9,
   "id": "16150237-2cc5-4b59-aafc-6bc0c790c9b1",
   "metadata": {},
   "outputs": [],
   "source": [
    "cos_results = {}\n",
    "\n",
    "cos_results['equal_score'] = nonzero_score-different_score\n",
    "cos_results['unequal_score'] = different_score\n",
    "cos_results['median_diff_score'] = median_diff_score\n",
    "\n",
    "cos_results['equal_matches'] = nonzero_matches-different_matches\n",
    "cos_results['unequal_matches'] = different_matches\n",
    "cos_results['median_diff_matches'] = median_diff_matches"
   ]
  },
  {
   "cell_type": "code",
   "execution_count": null,
   "id": "sunset-limit",
   "metadata": {},
   "outputs": [
    {
     "data": {
      "text/plain": [
       "<matplotlib.legend.Legend at 0x155486b06310>"
      ]
     },
     "execution_count": 10,
     "metadata": {},
     "output_type": "execute_result"
    }
   ],
   "source": [
    "%matplotlib inline\n",
    "fig, ax = plt.subplots(figsize=(12, 6),nrows=1,ncols=2)\n",
    "ax = ax.flatten()\n",
    "\n",
    "x = MMS12['mod']['score'].flatten()\n",
    "y = np.maximum(S12['mzi'].toarray().flatten(),S12['nli'].toarray().flatten())\n",
    "\n",
    "# one or both have to be non-zero\n",
    "idx = (x*y)>0\n",
    "x = x[idx]\n",
    "y = y[idx]\n",
    "nonzero_score = len(x)\n",
    "\n",
    "# indices that are more than 1% different\n",
    "idx_diff = abs(x-y)>0.0001\n",
    "different_score = sum(idx_diff)\n",
    "\n",
    "# median difference of scores score more than 1% different\n",
    "if different_score > 0:\n",
    "    diff = (x[idx_diff] - y[idx_diff])\n",
    "    median_diff_score = np.median(diff)\n",
    "else:\n",
    "    median_diff_score = 0\n",
    "\n",
    "ax[0].plot(x[idx_diff], y[idx_diff],'.', markersize=20, alpha=0.6,label='Unequal: %.4f%%'%(100*different_score/nonzero_score), color='#ff7f0e')\n",
    "ax[0].plot(x[~idx_diff], y[~idx_diff], '.',markersize=20, alpha=0.6, label='Equal: %.4f%%'%(100*(nonzero_score-different_score)/nonzero_score), color='#1f77b4')\n",
    "ax[0].set_xlabel('MatchMS Score',fontsize=20)\n",
    "ax[0].set_ylabel('BLINK Score',fontsize=20)\n",
    "ax[0].legend()\n",
    "\n",
    "x = MMS12['cos']['matches'].flatten()\n",
    "y = S12['mzc'].toarray().flatten()\n",
    "\n",
    "# one or both have to be non-zero\n",
    "idx = (x*y)>0\n",
    "x = x[idx]\n",
    "y = y[idx]\n",
    "nonzero_matches = len(x)\n",
    "\n",
    "# indices where match counts don't agree\n",
    "idx_diff = abs(x-y)>0\n",
    "different_matches = sum(idx_diff)\n",
    "\n",
    "# median difference of different matches \n",
    "if different_matches > 0:\n",
    "    diff = (x[idx_diff] - y[idx_diff])\n",
    "    median_diff_matches = np.median(diff)\n",
    "else:\n",
    "    median_diff_matches = 0\n",
    "\n",
    "ax[1].plot(x[idx_diff], y[idx_diff],'.', markersize=20, alpha=0.6,label='Unequal: %.4f%%'%(100*different_matches/nonzero_matches), color='#ff7f0e')\n",
    "ax[1].plot(x[~idx_diff], y[~idx_diff], '.',markersize=20, alpha=0.6, label='Equal: %.4f%%'%(100*(nonzero_matches-different_matches)/nonzero_matches), color='#1f77b4')\n",
    "ax[1].set_xlabel('MatchMS Matching Ions',fontsize=20)\n",
    "ax[1].set_ylabel('BLINK Matching Ions',fontsize=20)\n",
    "ax[1].legend()\n",
    "\n",
    "# fig.savefig('mod_accuracy_benchmarking.pdf')"
   ]
  },
  {
   "cell_type": "code",
   "execution_count": null,
   "id": "54602219-01ea-47f8-af6a-99f7d092175e",
   "metadata": {},
   "outputs": [],
   "source": [
    "mod_results = {}\n",
    "\n",
    "mod_results['equal_score'] = nonzero_score-different_score\n",
    "mod_results['unequal_score'] = different_score\n",
    "mod_results['median_diff_score'] = median_diff_score\n",
    "\n",
    "mod_results['equal_matches'] = nonzero_matches-different_matches\n",
    "mod_results['unequal_matches'] = different_matches\n",
    "mod_results['median_diff_matches'] = median_diff_matches"
   ]
  },
  {
   "cell_type": "code",
   "execution_count": null,
   "id": "bdc3b5eb-ebdc-45fc-9c9e-aff1b892cda3",
   "metadata": {},
   "outputs": [],
   "source": [
    "#create dataframe and save as csv\n",
    "df = pd.DataFrame(\n",
    "    \n",
    " [(cos_results['equal_score'], cos_results['unequal_score'], cos_results['median_diff_score']),\n",
    "  (cos_results['equal_matches'], cos_results['unequal_matches'], cos_results['median_diff_matches']),\n",
    "  (mod_results['equal_score'], mod_results['unequal_score'], mod_results['median_diff_score']),\n",
    "  (mod_results['equal_matches'], mod_results['unequal_matches'], mod_results['median_diff_matches'])],\n",
    "    \n",
    " index = ['cos_score', 'cos_matches', 'mod_cos_score', 'mod_cos_matches'],\n",
    " columns = ('equal', 'unequal', 'median_diff'), \n",
    "    \n",
    ")\n",
    "\n",
    "df.to_csv('accuracy_benchmarking_results.csv')"
   ]
  },
  {
   "cell_type": "code",
   "execution_count": null,
   "id": "21d92672-7e88-4265-b3d1-59113eb43d55",
   "metadata": {},
   "outputs": [],
   "source": []
  }
 ],
 "metadata": {
  "kernelspec": {
   "display_name": "blink-env",
   "language": "python",
   "name": "blink-env"
  },
  "language_info": {
   "codemirror_mode": {
    "name": "ipython",
    "version": 3
   },
   "file_extension": ".py",
   "mimetype": "text/x-python",
   "name": "python",
   "nbconvert_exporter": "python",
   "pygments_lexer": "ipython3",
   "version": "3.7.13"
  }
 },
 "nbformat": 4,
 "nbformat_minor": 5
}
