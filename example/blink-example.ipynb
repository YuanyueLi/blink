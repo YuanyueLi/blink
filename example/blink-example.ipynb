{
 "cells": [
  {
   "cell_type": "markdown",
   "id": "3b0ad6f0-dddc-4b32-9bac-a12dee1899c6",
   "metadata": {},
   "source": [
    "# Example Notebook for making performance and accuracy benchmarking figure"
   ]
  },
  {
   "cell_type": "code",
   "execution_count": 1,
   "id": "filled-lottery",
   "metadata": {},
   "outputs": [
    {
     "data": {
      "text/html": [
       "<style>.container { width:100% !important; }</style>"
      ],
      "text/plain": [
       "<IPython.core.display.HTML object>"
      ]
     },
     "metadata": {},
     "output_type": "display_data"
    }
   ],
   "source": [
    "from IPython.core.display import display, HTML\n",
    "display(HTML(\"<style>.container { width:100% !important; }</style>\"))\n",
    "\n",
    "import sys\n",
    "sys.path.insert(0, '../')\n",
    "\n",
    "import blink\n",
    "from importlib import reload\n",
    "reload(blink)\n",
    "\n",
    "import pandas as pd\n",
    "import numpy as np\n",
    "import scipy\n",
    "from scipy import sparse as sp\n",
    "\n",
    "from matplotlib import pyplot as plt\n",
    "import seaborn as sns\n",
    "\n",
    "import matplotlib\n",
    "matplotlib.rcParams['pdf.fonttype'] = 42\n",
    "matplotlib.rcParams['ps.fonttype'] = 42"
   ]
  },
  {
   "cell_type": "markdown",
   "id": "raising-medicine",
   "metadata": {},
   "source": [
    "# Load data"
   ]
  },
  {
   "cell_type": "code",
   "execution_count": 2,
   "id": "written-payroll",
   "metadata": {},
   "outputs": [],
   "source": [
    "small  = blink.open_msms_file('./small.mgf')\n",
    "medium = blink.open_msms_file('./medium.mgf')\n",
    "\n",
    "S1 = blink.discretize_spectra(small.spectrum,  small.precursor_mz,  intensity_power=0.5)\n",
    "S2 = blink.discretize_spectra(medium.spectrum, medium.precursor_mz, intensity_power=0.5)"
   ]
  },
  {
   "cell_type": "markdown",
   "id": "a2ab25e8-6cd2-4b83-b5fd-9d6190cf762c",
   "metadata": {},
   "source": [
    "# Run BLINK on 1 million comparisons"
   ]
  },
  {
   "cell_type": "code",
   "execution_count": 3,
   "id": "solved-kingston",
   "metadata": {},
   "outputs": [
    {
     "name": "stdout",
     "output_type": "stream",
     "text": [
      "CPU times: user 89.8 ms, sys: 13.1 ms, total: 103 ms\n",
      "Wall time: 103 ms\n"
     ]
    }
   ],
   "source": [
    "%%time\n",
    "S12 = blink.score_sparse_spectra(S1, S2, tolerance=0.01)"
   ]
  },
  {
   "cell_type": "markdown",
   "id": "b06ee98b-7682-44d7-966a-826b6a3cbcbb",
   "metadata": {},
   "source": [
    "# Run MatchMS for Same comparisons"
   ]
  },
  {
   "cell_type": "code",
   "execution_count": 4,
   "id": "a1fd0d07",
   "metadata": {},
   "outputs": [],
   "source": [
    "import matchms as mms\n",
    "from matchms.similarity import CosineGreedy, ModifiedCosine\n",
    "\n",
    "MMS1 = [mms.Spectrum(s.spectrum[0],\n",
    "                     s.spectrum[1],\n",
    "                     metadata={'precursor_mz': s.precursor_mz}) \n",
    "        for i,s in small.iterrows()]\n",
    "MMS2 = [mms.Spectrum(m.spectrum[0],\n",
    "                     m.spectrum[1],\n",
    "                     metadata={'precursor_mz': m.precursor_mz}) \n",
    "        for i,m in medium.iterrows()]\n",
    "\n",
    "cos = CosineGreedy(tolerance=0.0099,intensity_power=0.5)\n",
    "mod = ModifiedCosine(tolerance=0.0099,intensity_power=0.5)"
   ]
  },
  {
   "cell_type": "code",
   "execution_count": null,
   "id": "adjacent-marketing",
   "metadata": {},
   "outputs": [],
   "source": [
    "%%time\n",
    "MMS12 = {}\n",
    "MMS12['cos'] = cos.matrix(references=MMS1, queries=MMS2)\n",
    "MMS12['mod'] = mod.matrix(references=MMS1, queries=MMS2)"
   ]
  },
  {
   "cell_type": "markdown",
   "id": "0eaffa74-b9fd-4010-8e8e-099920a4685c",
   "metadata": {},
   "source": [
    "# Load Precomputed Compute timing for various numbers of compariosns for MatchMS and BLINK"
   ]
  },
  {
   "cell_type": "code",
   "execution_count": null,
   "id": "3f452837-d1b5-4f98-8f62-28f04b10395f",
   "metadata": {},
   "outputs": [],
   "source": [
    "benchmark_df = pd.read_csv('./blink_benchmark.csv').groupby(['comparisons', 'algorithm']).median()"
   ]
  },
  {
   "cell_type": "markdown",
   "id": "76a88e71-cb5c-478b-8ff6-3de960465e23",
   "metadata": {},
   "source": [
    "# Generate Figure in Manuscript"
   ]
  },
  {
   "cell_type": "code",
   "execution_count": null,
   "id": "crude-wells",
   "metadata": {},
   "outputs": [],
   "source": [
    "%matplotlib inline\n",
    "x = MMS12['cos']['score'].flatten()\n",
    "y = S12['mzi'].toarray().flatten()\n",
    "x,y = x[(x>0)&(y>0)], y[(x>0)&(y>0)]\n",
    "\n",
    "\n",
    "fig, ax = plt.subplots(figsize=(17, 6),nrows=1,ncols=3)\n",
    "ax = ax.flatten()\n",
    "sns.scatterplot(x=x, y=y, s=70, label='Equal: {}'.format(len(x)), alpha=.5,ax=ax[0])\n",
    "x,y = x[(y+1e-3<x)|(x<y-1e-3)], y[(x+1e-3<y)|(y<x-1e-3)]\n",
    "sns.scatterplot(x=x, y=y, s=70, label='Unequal: {}'.format(len(x)),ax=ax[0])\n",
    "ax[0].set_xlabel('MatchMS Score',fontsize=20)\n",
    "ax[0].set_ylabel('BLINK Score',fontsize=20)\n",
    "\n",
    "\n",
    "x = MMS12['cos']['matches'].flatten()\n",
    "y = S12['mzc'].toarray().flatten()\n",
    "x,y = x[(x>0)&(y>0)], y[(x>0)&(y>0)]\n",
    "\n",
    "sns.scatterplot(x=x, y=y, s=70, label='Equal: {}'.format(len(x)), alpha=.5,ax=ax[1])\n",
    "x,y = x[(y+.5<x)|(x<y-.5)], y[(x+.5<y)|(y<x-.5)]\n",
    "sns.scatterplot(x=x, y=y, s=70, label='Unequal: {}'.format(len(x)),ax=ax[1])\n",
    "ax[1].set_xlabel('MatchMS # Matching Ions',fontsize=20)\n",
    "ax[1].set_ylabel('BLINK # Matching Ions',fontsize=20)\n",
    "\n",
    " \n",
    "sns.lineplot(data=benchmark_df, x='comparisons', y='seconds', \n",
    "             hue='algorithm', style='algorithm', \n",
    "             markers=True, dashes=False,ax=ax[2],markersize=15)\n",
    "\n",
    "ax[2].set_xscale('log')\n",
    "ax[2].set_yscale('log')\n",
    "ax[2].set_ylabel('Compute time (sec)',fontsize=20)\n",
    "ax[2].set_xlabel('# Comparisons',fontsize=20)\n",
    "\n",
    "for i,a in enumerate(ax):\n",
    "    a.grid()\n",
    "    if i==2:\n",
    "        a.legend(fontsize=18,labels=['BLINK','MatchMS'])\n",
    "    else:\n",
    "        a.legend(fontsize=18,loc='upper left')\n",
    "    \n",
    "    for label in (a.get_xticklabels() + a.get_yticklabels()):\n",
    "        label.set_fontsize(18)\n",
    "    a.text(0.925,0.05,chr(97+i),fontsize=30,transform=a.transAxes)\n",
    "\n",
    "plt.tight_layout()\n",
    "plt.show()\n",
    "\n",
    "fig.savefig('accuracy_benchmarking.pdf')"
   ]
  },
  {
   "cell_type": "code",
   "execution_count": null,
   "id": "e1fd3ef1-06a4-4449-857b-89d6b8ff63fa",
   "metadata": {},
   "outputs": [],
   "source": [
    "benchmark_df.reset_index(inplace=True)\n",
    "timing_df = pd.merge(benchmark_df[benchmark_df['algorithm']=='blink'].add_suffix('_blink'),\n",
    "         benchmark_df[benchmark_df['algorithm']=='matchms'].add_suffix('_matchms'),\n",
    "         left_on='comparisons_blink',\n",
    "         right_on='comparisons_matchms',\n",
    "         how='inner')\n",
    "timing_df.head()"
   ]
  },
  {
   "cell_type": "code",
   "execution_count": null,
   "id": "98bf8088-1e19-4d50-8581-c6cefabea522",
   "metadata": {},
   "outputs": [],
   "source": [
    "timing_df['seconds_matchms']/timing_df['seconds_blink']"
   ]
  },
  {
   "cell_type": "code",
   "execution_count": null,
   "id": "similar-there",
   "metadata": {},
   "outputs": [],
   "source": []
  }
 ],
 "metadata": {
  "kernelspec": {
   "display_name": "Python 3",
   "language": "python",
   "name": "python3"
  },
  "language_info": {
   "codemirror_mode": {
    "name": "ipython",
    "version": 3
   },
   "file_extension": ".py",
   "mimetype": "text/x-python",
   "name": "python",
   "nbconvert_exporter": "python",
   "pygments_lexer": "ipython3",
   "version": "3.7.9"
  }
 },
 "nbformat": 4,
 "nbformat_minor": 5
}
