{
 "cells": [
  {
   "cell_type": "code",
   "execution_count": 1,
   "id": "ac2c8286-227a-41d5-84b5-76b4653165bd",
   "metadata": {},
   "outputs": [],
   "source": [
    "# from skbio.diversity import alpha_diversity\n",
    "# adiv_obs_otus = alpha_diversity('observed_otus', data, ids)\n",
    "# adiv_obs_otus\n"
   ]
  },
  {
   "cell_type": "code",
   "execution_count": 14,
   "id": "a057d736-4054-4c97-a4f9-823b8ffdb917",
   "metadata": {},
   "outputs": [],
   "source": [
    "import sys\n",
    "import os\n",
    "sys.path.insert(0,'/global/homes/b/bpb/repos/blink/lbnl_tools/ToM_Diversity/')\n",
    "# sys.path.insert(0,'/global/homes/b/bpb/repos/blink/lbnl_tools/ToM_Diversity/')\n",
    "import blink_diversity\n",
    "\n",
    "sys.path.insert(0,'/global/homes/b/bpb/repos/metatlas')\n",
    "from metatlas.untargeted import tools as mzm\n"
   ]
  },
  {
   "cell_type": "code",
   "execution_count": 2,
   "id": "aacdacce-b03c-4604-83f5-d7a6461bce31",
   "metadata": {},
   "outputs": [],
   "source": [
    "# from importlib import reload  # Python 3.4+\n",
    "# reload(blink_diversity)"
   ]
  },
  {
   "cell_type": "code",
   "execution_count": 3,
   "id": "5f99d4f1-b90d-41e1-a354-bc3fad2b11f6",
   "metadata": {},
   "outputs": [],
   "source": [
    "import pandas as pd\n",
    "md = blink_diversity.metabolite_diversity()\n",
    "# comparisons = pd.read_pickle(md.params.berklab_mcs_filename)\n",
    "# comparisons.head()"
   ]
  },
  {
   "cell_type": "code",
   "execution_count": 4,
   "id": "4d217a57-56e5-4c85-b604-00a01a348fca",
   "metadata": {},
   "outputs": [
    {
     "name": "stderr",
     "output_type": "stream",
     "text": [
      "/global/common/software/m2650/python3-matchms/lib/python3.8/site-packages/scipy/sparse/_index.py:125: SparseEfficiencyWarning: Changing the sparsity structure of a csr_matrix is expensive. lil_matrix is more efficient.\n",
      "  self._set_arrayXarray(i, j, x)\n",
      "/global/homes/b/bpb/repos/blink/lbnl_tools/ToM_Diversity/blink_diversity.py:35: ClusterWarning: scipy.cluster: The symmetric non-negative hollow observation matrix looks suspiciously like an uncondensed distance matrix\n",
      "  z = linkage(n,method='single')\n"
     ]
    },
    {
     "name": "stdout",
     "output_type": "stream",
     "text": [
      "CPU times: user 19.2 s, sys: 578 ms, total: 19.8 s\n",
      "Wall time: 20 s\n"
     ]
    },
    {
     "data": {
      "text/plain": [
       "<blink_diversity.metabolite_diversity at 0x14aebd437430>"
      ]
     },
     "execution_count": 4,
     "metadata": {},
     "output_type": "execute_result"
    }
   ],
   "source": [
    "%%time\n",
    "md = blink_diversity.metabolite_diversity()\n",
    "md.polarity = 'Positive'\n",
    "md.get_treecompound_metadata()\n",
    "md.make_linkage_from_mcs_matrix()\n",
    "md.make_skbio_tree()\n",
    "md.get_berklab_ref()"
   ]
  },
  {
   "cell_type": "code",
   "execution_count": null,
   "id": "afd3e21e-22f6-433b-b356-5d3e4546e812",
   "metadata": {},
   "outputs": [],
   "source": []
  },
  {
   "cell_type": "code",
   "execution_count": 6,
   "id": "b2db4c1f-d1eb-4335-80cd-215b47bd355f",
   "metadata": {},
   "outputs": [
    {
     "name": "stdout",
     "output_type": "stream",
     "text": [
      "CPU times: user 3.62 s, sys: 540 ms, total: 4.16 s\n",
      "Wall time: 4.25 s\n"
     ]
    },
    {
     "data": {
      "text/plain": [
       "2356.850389606431"
      ]
     },
     "execution_count": 6,
     "metadata": {},
     "output_type": "execute_result"
    }
   ],
   "source": [
    "%%time\n",
    "# exp_file = '/project/projectdirs/metatlas/projects/untargeted_tasks/20210920_JGI-AK-TH_NB_504882_SoilWetDry_final_QE-HF_C18_USDAY63680_positive/20210920_JGI-AK-TH_NB_504882_SoilWetDry_final_QE-HF_C18_USDAY63680_positive_MSMS.mgf'\n",
    "exp_file = '/global/cfs/cdirs/metatlas/projects/untargeted_tasks/20190823_LZH-AG_BM_CondTannins_Kosakonia_0718H2O_QE119_EPC18_USDAY26531_positive/20190823_LZH-AG_BM_CondTannins_Kosakonia_0718H2O_QE119_EPC18_USDAY26531_positive_MSMS.mgf'\n",
    "md.query_file = exp_file\n",
    "md.blink_score_file()\n",
    "\n",
    "# connect it to ToM\n",
    "\n",
    "\n",
    "md.pd_diversity_file()\n",
    "md.pd_diversity"
   ]
  },
  {
   "cell_type": "code",
   "execution_count": 5,
   "id": "21c9c84d-5e75-4d12-9783-307e4dd5d5f3",
   "metadata": {},
   "outputs": [
    {
     "name": "stdout",
     "output_type": "stream",
     "text": [
      "CPU times: user 1min 41s, sys: 18.9 s, total: 2min\n",
      "Wall time: 2min\n"
     ]
    },
    {
     "data": {
      "text/plain": [
       "1856.638837544888"
      ]
     },
     "execution_count": 5,
     "metadata": {},
     "output_type": "execute_result"
    }
   ],
   "source": [
    "%%time\n",
    "# exp_file = '/global/cfs/cdirs/metatlas/projects/untargeted_tasks/20180426_KBL_DCD_C18_Sorghum_DvsW_RSZ_positive/20180426_KBL_DCD_C18_Sorghum_DvsW_RSZ_positive_MSMS.mgf'\n",
    "exp_file = '/project/projectdirs/metatlas/projects/untargeted_tasks/20210920_JGI-AK-TH_NB_504882_SoilWetDry_final_QE-HF_C18_USDAY63680_positive/20210920_JGI-AK-TH_NB_504882_SoilWetDry_final_QE-HF_C18_USDAY63680_positive_MSMS.mgf'\n",
    "md.query_file = exp_file\n",
    "md.blink_score_file()\n",
    "md.pd_diversity_file()\n",
    "md.pd_diversity\n",
    "# md.num_unique_inchikey_hits\n",
    "# md.num_unique_inchikey_hits_in_network"
   ]
  },
  {
   "cell_type": "code",
   "execution_count": 23,
   "id": "c11208e9-b902-452d-8419-a52122775f19",
   "metadata": {},
   "outputs": [],
   "source": [
    "sql = \"\"\"SELECT Key, parent_dir, mzmine_pos_status,mzmine_neg_status FROM untargeted_tasks\n",
    "    WHERE mzmine_pos_status='07 complete' AND\n",
    "    mzmine_neg_status='07 complete';\"\"\"\n",
    "\n",
    "sql_result = mzm.api.query.execute_sql('lists', sql,max_rows=int(1e9))\n",
    "if len(sql_result['rows'])>0:\n",
    "    df = pd.DataFrame(sql_result['rows'])\n",
    "df = df[['Key','parent_dir']]"
   ]
  },
  {
   "cell_type": "code",
   "execution_count": 24,
   "id": "8d34e76d-1858-42e4-a271-f8226dd237dd",
   "metadata": {},
   "outputs": [
    {
     "ename": "KeyboardInterrupt",
     "evalue": "",
     "output_type": "error",
     "traceback": [
      "\u001b[0;31m---------------------------------------------------------------------------\u001b[0m",
      "\u001b[0;31mKeyboardInterrupt\u001b[0m                         Traceback (most recent call last)",
      "\u001b[0;32m/tmp/ipykernel_73781/2930762436.py\u001b[0m in \u001b[0;36m<module>\u001b[0;34m\u001b[0m\n\u001b[1;32m      6\u001b[0m     \u001b[0;32mif\u001b[0m \u001b[0mos\u001b[0m\u001b[0;34m.\u001b[0m\u001b[0mpath\u001b[0m\u001b[0;34m.\u001b[0m\u001b[0misfile\u001b[0m\u001b[0;34m(\u001b[0m\u001b[0mmgf_file\u001b[0m\u001b[0;34m)\u001b[0m\u001b[0;34m:\u001b[0m\u001b[0;34m\u001b[0m\u001b[0;34m\u001b[0m\u001b[0m\n\u001b[1;32m      7\u001b[0m         \u001b[0mmd\u001b[0m\u001b[0;34m.\u001b[0m\u001b[0mquery_file\u001b[0m \u001b[0;34m=\u001b[0m \u001b[0mmgf_file\u001b[0m\u001b[0;34m\u001b[0m\u001b[0;34m\u001b[0m\u001b[0m\n\u001b[0;32m----> 8\u001b[0;31m         \u001b[0mmd\u001b[0m\u001b[0;34m.\u001b[0m\u001b[0mblink_score_file\u001b[0m\u001b[0;34m(\u001b[0m\u001b[0;34m)\u001b[0m\u001b[0;34m\u001b[0m\u001b[0;34m\u001b[0m\u001b[0m\n\u001b[0m\u001b[1;32m      9\u001b[0m         \u001b[0mmd\u001b[0m\u001b[0;34m.\u001b[0m\u001b[0mpd_diversity_file\u001b[0m\u001b[0;34m(\u001b[0m\u001b[0;34m)\u001b[0m\u001b[0;34m\u001b[0m\u001b[0;34m\u001b[0m\u001b[0m\n\u001b[1;32m     10\u001b[0m         \u001b[0mtemp\u001b[0m \u001b[0;34m=\u001b[0m \u001b[0mmd\u001b[0m\u001b[0;34m.\u001b[0m\u001b[0mpd_diversity\u001b[0m\u001b[0;34m\u001b[0m\u001b[0;34m\u001b[0m\u001b[0m\n",
      "\u001b[0;32m~/repos/blink/lbnl_tools/ToM_Diversity/blink_diversity.py\u001b[0m in \u001b[0;36mblink_score_file\u001b[0;34m(self)\u001b[0m\n\u001b[1;32m     49\u001b[0m                                      remove_duplicates=False,metadata=spectra_df.drop(columns=['spectrum']).to_dict(orient='records'))\n\u001b[1;32m     50\u001b[0m             \u001b[0mS12\u001b[0m \u001b[0;34m=\u001b[0m \u001b[0mself\u001b[0m\u001b[0;34m.\u001b[0m\u001b[0mblink\u001b[0m\u001b[0;34m.\u001b[0m\u001b[0mscore_sparse_spectra\u001b[0m\u001b[0;34m(\u001b[0m\u001b[0mself\u001b[0m\u001b[0;34m.\u001b[0m\u001b[0mquery_spectra\u001b[0m\u001b[0;34m,\u001b[0m \u001b[0mself\u001b[0m\u001b[0;34m.\u001b[0m\u001b[0mreference_spectra\u001b[0m\u001b[0;34m)\u001b[0m\u001b[0;34m\u001b[0m\u001b[0;34m\u001b[0m\u001b[0m\n\u001b[0;32m---> 51\u001b[0;31m             S12 = self.blink.filter_hits(S12,\n\u001b[0m\u001b[1;32m     52\u001b[0m                                          \u001b[0mmin_matches\u001b[0m\u001b[0;34m=\u001b[0m\u001b[0mself\u001b[0m\u001b[0;34m.\u001b[0m\u001b[0mparams\u001b[0m\u001b[0;34m.\u001b[0m\u001b[0mmin_matches\u001b[0m\u001b[0;34m,\u001b[0m\u001b[0;34m\u001b[0m\u001b[0;34m\u001b[0m\u001b[0m\n\u001b[1;32m     53\u001b[0m                                          \u001b[0mgood_matches\u001b[0m\u001b[0;34m=\u001b[0m\u001b[0mself\u001b[0m\u001b[0;34m.\u001b[0m\u001b[0mparams\u001b[0m\u001b[0;34m.\u001b[0m\u001b[0mgood_matches\u001b[0m\u001b[0;34m,\u001b[0m\u001b[0;34m\u001b[0m\u001b[0;34m\u001b[0m\u001b[0m\n",
      "\u001b[0;32m~/repos/blink/blink.py\u001b[0m in \u001b[0;36mfilter_hits\u001b[0;34m(S12, good_score, min_matches, good_matches, calc_network_score)\u001b[0m\n\u001b[1;32m    306\u001b[0m         \u001b[0mS12\u001b[0m\u001b[0;34m[\u001b[0m\u001b[0;34m'network_matches'\u001b[0m\u001b[0;34m]\u001b[0m \u001b[0;34m=\u001b[0m \u001b[0mS12\u001b[0m\u001b[0;34m[\u001b[0m\u001b[0;34m'network_matches'\u001b[0m\u001b[0;34m]\u001b[0m\u001b[0;34m.\u001b[0m\u001b[0mmultiply\u001b[0m\u001b[0;34m(\u001b[0m\u001b[0midx\u001b[0m\u001b[0;34m)\u001b[0m\u001b[0;34m.\u001b[0m\u001b[0mtocoo\u001b[0m\u001b[0;34m(\u001b[0m\u001b[0;34m)\u001b[0m\u001b[0;34m\u001b[0m\u001b[0;34m\u001b[0m\u001b[0m\n\u001b[1;32m    307\u001b[0m         \u001b[0;31m# S12['mzi'] = S12['mzi'].multiply(idx).tocoo()\u001b[0m\u001b[0;34m\u001b[0m\u001b[0;34m\u001b[0m\u001b[0;34m\u001b[0m\u001b[0m\n\u001b[0;32m--> 308\u001b[0;31m         \u001b[0;31m# S12['mzc'] = S12['mzc'].multiply(idx).tocoo()\u001b[0m\u001b[0;34m\u001b[0m\u001b[0;34m\u001b[0m\u001b[0;34m\u001b[0m\u001b[0m\n\u001b[0m\u001b[1;32m    309\u001b[0m         \u001b[0;31m# S12['nli'] = S12['nli'].multiply(idx).tocoo()\u001b[0m\u001b[0;34m\u001b[0m\u001b[0;34m\u001b[0m\u001b[0;34m\u001b[0m\u001b[0m\n\u001b[1;32m    310\u001b[0m         \u001b[0;31m# S12['nli'] = S12['nli'].multiply(idx).tocoo()\u001b[0m\u001b[0;34m\u001b[0m\u001b[0;34m\u001b[0m\u001b[0;34m\u001b[0m\u001b[0m\n",
      "\u001b[0;32m/global/common/software/m2650/python3-matchms/lib/python3.8/site-packages/scipy/sparse/compressed.py\u001b[0m in \u001b[0;36m__ge__\u001b[0;34m(self, other)\u001b[0m\n\u001b[1;32m    336\u001b[0m \u001b[0;34m\u001b[0m\u001b[0m\n\u001b[1;32m    337\u001b[0m     \u001b[0;32mdef\u001b[0m \u001b[0m__ge__\u001b[0m\u001b[0;34m(\u001b[0m\u001b[0mself\u001b[0m\u001b[0;34m,\u001b[0m \u001b[0mother\u001b[0m\u001b[0;34m)\u001b[0m\u001b[0;34m:\u001b[0m\u001b[0;34m\u001b[0m\u001b[0;34m\u001b[0m\u001b[0m\n\u001b[0;32m--> 338\u001b[0;31m         return self._inequality(other, operator.ge, '_ge_',\n\u001b[0m\u001b[1;32m    339\u001b[0m                                 \u001b[0;34m\"Comparing a sparse matrix with a scalar \"\u001b[0m\u001b[0;34m\u001b[0m\u001b[0;34m\u001b[0m\u001b[0m\n\u001b[1;32m    340\u001b[0m                                 \u001b[0;34m\"less than zero using >= is inefficient, \"\u001b[0m\u001b[0;34m\u001b[0m\u001b[0;34m\u001b[0m\u001b[0m\n",
      "\u001b[0;32m/global/common/software/m2650/python3-matchms/lib/python3.8/site-packages/scipy/sparse/compressed.py\u001b[0m in \u001b[0;36m_inequality\u001b[0;34m(self, other, op, op_name, bad_scalar_msg)\u001b[0m\n\u001b[1;32m    295\u001b[0m                 \u001b[0;32mreturn\u001b[0m \u001b[0mself\u001b[0m\u001b[0;34m.\u001b[0m\u001b[0m_binopt\u001b[0m\u001b[0;34m(\u001b[0m\u001b[0mother_arr\u001b[0m\u001b[0;34m,\u001b[0m \u001b[0mop_name\u001b[0m\u001b[0;34m)\u001b[0m\u001b[0;34m\u001b[0m\u001b[0;34m\u001b[0m\u001b[0m\n\u001b[1;32m    296\u001b[0m             \u001b[0;32melse\u001b[0m\u001b[0;34m:\u001b[0m\u001b[0;34m\u001b[0m\u001b[0;34m\u001b[0m\u001b[0m\n\u001b[0;32m--> 297\u001b[0;31m                 \u001b[0;32mreturn\u001b[0m \u001b[0mself\u001b[0m\u001b[0;34m.\u001b[0m\u001b[0m_scalar_binopt\u001b[0m\u001b[0;34m(\u001b[0m\u001b[0mother\u001b[0m\u001b[0;34m,\u001b[0m \u001b[0mop\u001b[0m\u001b[0;34m)\u001b[0m\u001b[0;34m\u001b[0m\u001b[0;34m\u001b[0m\u001b[0m\n\u001b[0m\u001b[1;32m    298\u001b[0m         \u001b[0;31m# Dense other.\u001b[0m\u001b[0;34m\u001b[0m\u001b[0;34m\u001b[0m\u001b[0;34m\u001b[0m\u001b[0m\n\u001b[1;32m    299\u001b[0m         \u001b[0;32melif\u001b[0m \u001b[0misdense\u001b[0m\u001b[0;34m(\u001b[0m\u001b[0mother\u001b[0m\u001b[0;34m)\u001b[0m\u001b[0;34m:\u001b[0m\u001b[0;34m\u001b[0m\u001b[0;34m\u001b[0m\u001b[0m\n",
      "\u001b[0;32m/global/common/software/m2650/python3-matchms/lib/python3.8/site-packages/scipy/sparse/compressed.py\u001b[0m in \u001b[0;36m_scalar_binopt\u001b[0;34m(self, other, op)\u001b[0m\n\u001b[1;32m    209\u001b[0m         \"\"\"\n\u001b[1;32m    210\u001b[0m         \u001b[0mself\u001b[0m\u001b[0;34m.\u001b[0m\u001b[0msum_duplicates\u001b[0m\u001b[0;34m(\u001b[0m\u001b[0;34m)\u001b[0m\u001b[0;34m\u001b[0m\u001b[0;34m\u001b[0m\u001b[0m\n\u001b[0;32m--> 211\u001b[0;31m         \u001b[0mres\u001b[0m \u001b[0;34m=\u001b[0m \u001b[0mself\u001b[0m\u001b[0;34m.\u001b[0m\u001b[0m_with_data\u001b[0m\u001b[0;34m(\u001b[0m\u001b[0mop\u001b[0m\u001b[0;34m(\u001b[0m\u001b[0mself\u001b[0m\u001b[0;34m.\u001b[0m\u001b[0mdata\u001b[0m\u001b[0;34m,\u001b[0m \u001b[0mother\u001b[0m\u001b[0;34m)\u001b[0m\u001b[0;34m,\u001b[0m \u001b[0mcopy\u001b[0m\u001b[0;34m=\u001b[0m\u001b[0;32mTrue\u001b[0m\u001b[0;34m)\u001b[0m\u001b[0;34m\u001b[0m\u001b[0;34m\u001b[0m\u001b[0m\n\u001b[0m\u001b[1;32m    212\u001b[0m         \u001b[0mres\u001b[0m\u001b[0;34m.\u001b[0m\u001b[0meliminate_zeros\u001b[0m\u001b[0;34m(\u001b[0m\u001b[0;34m)\u001b[0m\u001b[0;34m\u001b[0m\u001b[0;34m\u001b[0m\u001b[0m\n\u001b[1;32m    213\u001b[0m         \u001b[0;32mreturn\u001b[0m \u001b[0mres\u001b[0m\u001b[0;34m\u001b[0m\u001b[0;34m\u001b[0m\u001b[0m\n",
      "\u001b[0;32m/global/common/software/m2650/python3-matchms/lib/python3.8/site-packages/scipy/sparse/compressed.py\u001b[0m in \u001b[0;36m_with_data\u001b[0;34m(self, data, copy)\u001b[0m\n\u001b[1;32m   1208\u001b[0m         \"\"\"\n\u001b[1;32m   1209\u001b[0m         \u001b[0;32mif\u001b[0m \u001b[0mcopy\u001b[0m\u001b[0;34m:\u001b[0m\u001b[0;34m\u001b[0m\u001b[0;34m\u001b[0m\u001b[0m\n\u001b[0;32m-> 1210\u001b[0;31m             return self.__class__((data, self.indices.copy(),\n\u001b[0m\u001b[1;32m   1211\u001b[0m                                    self.indptr.copy()),\n\u001b[1;32m   1212\u001b[0m                                   \u001b[0mshape\u001b[0m\u001b[0;34m=\u001b[0m\u001b[0mself\u001b[0m\u001b[0;34m.\u001b[0m\u001b[0mshape\u001b[0m\u001b[0;34m,\u001b[0m\u001b[0;34m\u001b[0m\u001b[0;34m\u001b[0m\u001b[0m\n",
      "\u001b[0;31mKeyboardInterrupt\u001b[0m: "
     ]
    }
   ],
   "source": [
    "out = []\n",
    "for i,row in df.iterrows():\n",
    "    output_dir='/global/cfs/cdirs/metatlas/projects/untargeted_tasks/'\n",
    "    mgf_file = mzm.build_untargeted_filename(output_dir,row['parent_dir'],'positive','msms-mzmine')\n",
    "    temp = None\n",
    "    if os.path.isfile(mgf_file):\n",
    "        md.query_file = mgf_file\n",
    "        md.blink_score_file()\n",
    "        md.pd_diversity_file()\n",
    "        temp = md.pd_diversity\n",
    "    out.append(temp)"
   ]
  },
  {
   "cell_type": "code",
   "execution_count": 27,
   "id": "d54f2905-e1ed-46a7-8d34-6d8f2081eb34",
   "metadata": {},
   "outputs": [],
   "source": [
    "df.reset_index(inplace=True,drop=True)"
   ]
  },
  {
   "cell_type": "code",
   "execution_count": 36,
   "id": "63088704-6d80-4a11-a936-7a8768939ff1",
   "metadata": {},
   "outputs": [
    {
     "data": {
      "text/plain": [
       "'20210512_LZH_SK-MdR_SoilExtr_MethodTest_all_QE119_EPC18_USDAY59441'"
      ]
     },
     "execution_count": 36,
     "metadata": {},
     "output_type": "execute_result"
    }
   ],
   "source": [
    "df.loc[513,'parent_dir']"
   ]
  },
  {
   "cell_type": "code",
   "execution_count": 33,
   "id": "59ba6bd4-9ab3-40c3-a499-194c88a6b962",
   "metadata": {},
   "outputs": [
    {
     "data": {
      "text/plain": [
       "2357.432901285311"
      ]
     },
     "execution_count": 33,
     "metadata": {},
     "output_type": "execute_result"
    }
   ],
   "source": [
    "out[513]"
   ]
  },
  {
   "cell_type": "code",
   "execution_count": 35,
   "id": "ee5765b1-87bd-497c-991f-cfad056eb55f",
   "metadata": {},
   "outputs": [
    {
     "data": {
      "text/plain": [
       "(array([10,  4,  9,  4,  6,  5,  6,  1,  2,  5,  2,  4,  6,  3,  2,  0,  6,\n",
       "         8,  6,  5,  8,  3, 10, 12, 10,  7,  8,  2,  9,  9, 10,  9, 13, 13,\n",
       "        10,  9,  3,  5, 12, 10,  9,  9, 12,  5, 12, 16, 10,  8, 11, 12, 13,\n",
       "        10, 11,  6,  6, 12,  7,  9, 12,  4,  7,  8,  6,  5,  4, 11,  5, 10,\n",
       "         9,  5,  6,  8,  4,  3,  2,  4,  2,  6,  1,  0,  1,  5,  2,  1,  2,\n",
       "         0,  1,  0,  0,  0,  0,  0,  2,  1,  1,  2,  2,  3,  0, 51]),\n",
       " array([   0.        ,   23.57432901,   47.14865803,   70.72298704,\n",
       "          94.29731605,  117.87164506,  141.44597408,  165.02030309,\n",
       "         188.5946321 ,  212.16896112,  235.74329013,  259.31761914,\n",
       "         282.89194815,  306.46627717,  330.04060618,  353.61493519,\n",
       "         377.18926421,  400.76359322,  424.33792223,  447.91225124,\n",
       "         471.48658026,  495.06090927,  518.63523828,  542.2095673 ,\n",
       "         565.78389631,  589.35822532,  612.93255433,  636.50688335,\n",
       "         660.08121236,  683.65554137,  707.22987039,  730.8041994 ,\n",
       "         754.37852841,  777.95285742,  801.52718644,  825.10151545,\n",
       "         848.67584446,  872.25017348,  895.82450249,  919.3988315 ,\n",
       "         942.97316051,  966.54748953,  990.12181854, 1013.69614755,\n",
       "        1037.27047657, 1060.84480558, 1084.41913459, 1107.9934636 ,\n",
       "        1131.56779262, 1155.14212163, 1178.71645064, 1202.29077966,\n",
       "        1225.86510867, 1249.43943768, 1273.01376669, 1296.58809571,\n",
       "        1320.16242472, 1343.73675373, 1367.31108275, 1390.88541176,\n",
       "        1414.45974077, 1438.03406978, 1461.6083988 , 1485.18272781,\n",
       "        1508.75705682, 1532.33138584, 1555.90571485, 1579.48004386,\n",
       "        1603.05437287, 1626.62870189, 1650.2030309 , 1673.77735991,\n",
       "        1697.35168893, 1720.92601794, 1744.50034695, 1768.07467596,\n",
       "        1791.64900498, 1815.22333399, 1838.797663  , 1862.37199202,\n",
       "        1885.94632103, 1909.52065004, 1933.09497905, 1956.66930807,\n",
       "        1980.24363708, 2003.81796609, 2027.39229511, 2050.96662412,\n",
       "        2074.54095313, 2098.11528214, 2121.68961116, 2145.26394017,\n",
       "        2168.83826918, 2192.4125982 , 2215.98692721, 2239.56125622,\n",
       "        2263.13558523, 2286.70991425, 2310.28424326, 2333.85857227,\n",
       "        2357.43290129]))"
      ]
     },
     "execution_count": 35,
     "metadata": {},
     "output_type": "execute_result"
    }
   ],
   "source": [
    "np.histogram(out,bins=100)"
   ]
  },
  {
   "cell_type": "code",
   "execution_count": 30,
   "id": "b7d2f047-a576-4ee6-be92-727815c1980c",
   "metadata": {},
   "outputs": [
    {
     "data": {
      "text/html": [
       "<div>\n",
       "<style scoped>\n",
       "    .dataframe tbody tr th:only-of-type {\n",
       "        vertical-align: middle;\n",
       "    }\n",
       "\n",
       "    .dataframe tbody tr th {\n",
       "        vertical-align: top;\n",
       "    }\n",
       "\n",
       "    .dataframe thead th {\n",
       "        text-align: right;\n",
       "    }\n",
       "</style>\n",
       "<table border=\"1\" class=\"dataframe\">\n",
       "  <thead>\n",
       "    <tr style=\"text-align: right;\">\n",
       "      <th></th>\n",
       "      <th>Key</th>\n",
       "      <th>parent_dir</th>\n",
       "    </tr>\n",
       "  </thead>\n",
       "  <tbody>\n",
       "    <tr>\n",
       "      <th>513</th>\n",
       "      <td>8343</td>\n",
       "      <td>20210512_LZH_SK-MdR_SoilExtr_MethodTest_all_QE...</td>\n",
       "    </tr>\n",
       "    <tr>\n",
       "      <th>196</th>\n",
       "      <td>7769</td>\n",
       "      <td>20200218_AG_YH_Niyogi_DiurnalExu_EcoFABFeb_QE1...</td>\n",
       "    </tr>\n",
       "    <tr>\n",
       "      <th>370</th>\n",
       "      <td>8142</td>\n",
       "      <td>20181205_JJ_JS_Wildermuth_Medicago4_RtExudates...</td>\n",
       "    </tr>\n",
       "    <tr>\n",
       "      <th>375</th>\n",
       "      <td>8147</td>\n",
       "      <td>20200713_AG_YH_Niyogi_DiurnalExu_Set1_QE119_EP...</td>\n",
       "    </tr>\n",
       "    <tr>\n",
       "      <th>267</th>\n",
       "      <td>7877</td>\n",
       "      <td>20200818_AG_RM_ExometabProj_PlantExudateExp_G_...</td>\n",
       "    </tr>\n",
       "    <tr>\n",
       "      <th>407</th>\n",
       "      <td>8181</td>\n",
       "      <td>20180703_SK_JS_Wildermuth_Diurnal2_171231_QE11...</td>\n",
       "    </tr>\n",
       "    <tr>\n",
       "      <th>414</th>\n",
       "      <td>8188</td>\n",
       "      <td>20181107_JJ_KZ_Switchgrass_Greenhouse_Rhizo1_Q...</td>\n",
       "    </tr>\n",
       "    <tr>\n",
       "      <th>225</th>\n",
       "      <td>7814</td>\n",
       "      <td>20200819_AG_RM_ExometabProj_PlantExudateExp_W1...</td>\n",
       "    </tr>\n",
       "    <tr>\n",
       "      <th>422</th>\n",
       "      <td>8198</td>\n",
       "      <td>20180213_SK_ZZ_ECOFAB_Diurnal_151015_QE119_EPC18</td>\n",
       "    </tr>\n",
       "    <tr>\n",
       "      <th>278</th>\n",
       "      <td>7894</td>\n",
       "      <td>20180824_MV_PA_MCAFEs_IntEcoFABExpt_20180817_Q...</td>\n",
       "    </tr>\n",
       "  </tbody>\n",
       "</table>\n",
       "</div>"
      ],
      "text/plain": [
       "      Key                                         parent_dir\n",
       "513  8343  20210512_LZH_SK-MdR_SoilExtr_MethodTest_all_QE...\n",
       "196  7769  20200218_AG_YH_Niyogi_DiurnalExu_EcoFABFeb_QE1...\n",
       "370  8142  20181205_JJ_JS_Wildermuth_Medicago4_RtExudates...\n",
       "375  8147  20200713_AG_YH_Niyogi_DiurnalExu_Set1_QE119_EP...\n",
       "267  7877  20200818_AG_RM_ExometabProj_PlantExudateExp_G_...\n",
       "407  8181  20180703_SK_JS_Wildermuth_Diurnal2_171231_QE11...\n",
       "414  8188  20181107_JJ_KZ_Switchgrass_Greenhouse_Rhizo1_Q...\n",
       "225  7814  20200819_AG_RM_ExometabProj_PlantExudateExp_W1...\n",
       "422  8198   20180213_SK_ZZ_ECOFAB_Diurnal_151015_QE119_EPC18\n",
       "278  7894  20180824_MV_PA_MCAFEs_IntEcoFABExpt_20180817_Q..."
      ]
     },
     "execution_count": 30,
     "metadata": {},
     "output_type": "execute_result"
    }
   ],
   "source": [
    "import numpy as np\n",
    "out = np.asarray(out)\n",
    "idx = np.argsort(out)[::-1]\n",
    "df.loc[idx[:10]]"
   ]
  },
  {
   "cell_type": "code",
   "execution_count": 8,
   "id": "20fa1396-c154-48a0-8b19-f09f3bdfd8c1",
   "metadata": {},
   "outputs": [],
   "source": [
    "# import pandas as pd\n",
    "# import numpy as np\n",
    "# import skbio\n",
    "\n",
    "# diversity = skbio.diversity.alpha.faith_pd(md.hits['present'], md.node_ids, md.ToM)"
   ]
  },
  {
   "cell_type": "code",
   "execution_count": null,
   "id": "98e05135-3778-4bcb-b636-2b838b3e7203",
   "metadata": {},
   "outputs": [],
   "source": [
    "# @ray.remote\n",
    "# def compute_div(exp_file):\n",
    "#     exp_file = '/global/cfs/cdirs/metatlas/projects/untargeted_tasks/20180426_KBL_DCD_C18_Sorghum_DvsW_RSZ_positive/20180426_KBL_DCD_C18_Sorghum_DvsW_RSZ_positive_MSMS.mgf'\n",
    "#     md.query_file = exp_file\n",
    "#     md.blink_score_file()\n",
    "#     md.pd_diversity_file()\n",
    "#     md.pd_diversity\n",
    "#     return jaccard\n",
    "\n",
    "# futures = [compute_div.remote(f) for f in files]\n",
    "# mcs_scores = ray.get(futures)"
   ]
  }
 ],
 "metadata": {
  "kernelspec": {
   "display_name": "matchms",
   "language": "python",
   "name": "matchms"
  },
  "language_info": {
   "codemirror_mode": {
    "name": "ipython",
    "version": 3
   },
   "file_extension": ".py",
   "mimetype": "text/x-python",
   "name": "python",
   "nbconvert_exporter": "python",
   "pygments_lexer": "ipython3",
   "version": "3.8.8"
  }
 },
 "nbformat": 4,
 "nbformat_minor": 5
}
