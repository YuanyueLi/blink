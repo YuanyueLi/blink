{
 "cells": [
  {
   "cell_type": "markdown",
   "id": "f242c12c-71ba-40dc-8e8e-6f33714f3cae",
   "metadata": {},
   "source": [
    "# BLINK Tutorial"
   ]
  },
  {
   "cell_type": "code",
   "execution_count": 1,
   "id": "85208944-d7a0-4c0b-9091-95c8aacb885b",
   "metadata": {},
   "outputs": [],
   "source": [
    "import sys\n",
    "sys.path.insert(0, '../')\n",
    "\n",
    "import blink\n",
    "import pandas as pd\n",
    "from ftplib import FTP"
   ]
  },
  {
   "cell_type": "markdown",
   "id": "40024e97-ce8d-49b3-8190-0ef108a9892c",
   "metadata": {},
   "source": [
    "## Step 0: Load Input Data From GNPS"
   ]
  },
  {
   "cell_type": "markdown",
   "id": "e77da43c-c9ad-4f37-b7be-5c3befb05c8c",
   "metadata": {},
   "source": [
    "#### GNPS-LIBRARY Downloaded Here:\n",
    "https://gnps-external.ucsd.edu/gnpslibrary"
   ]
  },
  {
   "cell_type": "code",
   "execution_count": 2,
   "id": "2f1ff8fb-99ce-48fa-89cb-090d682cc4df",
   "metadata": {},
   "outputs": [],
   "source": [
    "gnps_host = 'massive.ucsd.edu'\n",
    "gnps_user = 'MSV000083475'\n",
    "gnps_passwd = 'a'"
   ]
  },
  {
   "cell_type": "code",
   "execution_count": 3,
   "id": "9d7f6a7c-5177-4577-8d83-021321bea3c1",
   "metadata": {},
   "outputs": [],
   "source": [
    "filename = '7H12_9_1_song-75-s004-a04.mzML'    \n",
    "\n",
    "with FTP(gnps_host, gnps_user, gnps_passwd) as ftp:\n",
    "    ftp.cwd('/ccms_peak/RAW/PLATE7/')\n",
    "    with open(filename, 'wb') as f:\n",
    "        ftp.retrbinary('RETR ' + filename, f.write)"
   ]
  },
  {
   "cell_type": "markdown",
   "id": "d8a087fd-63bf-4f9b-b869-7e3977480ed6",
   "metadata": {},
   "source": [
    "## Step 1: Read Input Data"
   ]
  },
  {
   "cell_type": "markdown",
   "id": "31d38869-cb7a-40a5-bfbb-6bb959c14d03",
   "metadata": {},
   "source": [
    "#### BLINK can accept MGF files, mzML files, and lists of spectra as input. Correctly formatted lists of spectra and precursor m/zs can be fed directly into the discretization function, the other file formats can be parsed using a built-in helper function. "
   ]
  },
  {
   "cell_type": "markdown",
   "id": "c0132f82-f794-4a97-bafa-6d4cefdc6f4a",
   "metadata": {},
   "source": [
    "__blink.open_msms_file():__\n",
    "<br>\n",
    "This function takes an MGF file or mzML file and converts into a Pandas DataFrame."
   ]
  },
  {
   "cell_type": "markdown",
   "id": "bdee2db8-a4bf-43c9-bb72-48c6fc525798",
   "metadata": {},
   "source": [
    "__Example Code:__"
   ]
  },
  {
   "cell_type": "code",
   "execution_count": 4,
   "id": "4edbc17f-9464-4264-8951-bda5f3ad696c",
   "metadata": {},
   "outputs": [],
   "source": [
    "#parsing MGF:\n",
    "mgf = blink.open_msms_file('GNPS-LIBRARY.mgf')\n",
    "\n",
    "#parsing mzML:\n",
    "mzml = blink.open_msms_file('7H12_9_1_song-75-s004-a04.mzML')"
   ]
  },
  {
   "cell_type": "code",
   "execution_count": 5,
   "id": "b5990f1c-aee6-4a07-8893-bf331dd9a5a4",
   "metadata": {},
   "outputs": [
    {
     "data": {
      "text/html": [
       "<div>\n",
       "<style scoped>\n",
       "    .dataframe tbody tr th:only-of-type {\n",
       "        vertical-align: middle;\n",
       "    }\n",
       "\n",
       "    .dataframe tbody tr th {\n",
       "        vertical-align: top;\n",
       "    }\n",
       "\n",
       "    .dataframe thead th {\n",
       "        text-align: right;\n",
       "    }\n",
       "</style>\n",
       "<table border=\"1\" class=\"dataframe\">\n",
       "  <thead>\n",
       "    <tr style=\"text-align: right;\">\n",
       "      <th></th>\n",
       "      <th>pepmass</th>\n",
       "      <th>charge</th>\n",
       "      <th>mslevel</th>\n",
       "      <th>source_instrument</th>\n",
       "      <th>filename</th>\n",
       "      <th>seq</th>\n",
       "      <th>ionmode</th>\n",
       "      <th>organism</th>\n",
       "      <th>name</th>\n",
       "      <th>pi</th>\n",
       "      <th>...</th>\n",
       "      <th>smiles</th>\n",
       "      <th>inchi</th>\n",
       "      <th>inchiaux</th>\n",
       "      <th>pubmed</th>\n",
       "      <th>submituser</th>\n",
       "      <th>libraryquality</th>\n",
       "      <th>spectrumid</th>\n",
       "      <th>scans</th>\n",
       "      <th>spectrum</th>\n",
       "      <th>precursor_mz</th>\n",
       "    </tr>\n",
       "  </thead>\n",
       "  <tbody>\n",
       "    <tr>\n",
       "      <th>0</th>\n",
       "      <td>(981.54, None)</td>\n",
       "      <td>[0+]</td>\n",
       "      <td>2</td>\n",
       "      <td>LC-ESI-qTof</td>\n",
       "      <td>130618_Ger_Jenia_WT-3-Des-MCLR_MH981.4-qb.1.1....</td>\n",
       "      <td>*..*</td>\n",
       "      <td>Positive</td>\n",
       "      <td>GNPS-LIBRARY</td>\n",
       "      <td>3-Des-Microcystein_LR M+H</td>\n",
       "      <td>Gerwick</td>\n",
       "      <td>...</td>\n",
       "      <td>CC(C)CC1NC(=O)C(C)NC(=O)C(=C)N(C)C(=O)CCC(NC(=...</td>\n",
       "      <td>N/A</td>\n",
       "      <td>N/A</td>\n",
       "      <td>N/A</td>\n",
       "      <td>mwang87</td>\n",
       "      <td>1</td>\n",
       "      <td>CCMSLIB00000001547</td>\n",
       "      <td>1</td>\n",
       "      <td>[[289.286377, 295.545288, 298.489624, 317.3249...</td>\n",
       "      <td>981.540</td>\n",
       "    </tr>\n",
       "    <tr>\n",
       "      <th>1</th>\n",
       "      <td>(940.25, None)</td>\n",
       "      <td>[0+]</td>\n",
       "      <td>2</td>\n",
       "      <td>LC-ESI-qTof</td>\n",
       "      <td>20111105_Anada_Ger_HoiamideB_MH940_qb.1.1..mgf</td>\n",
       "      <td>*..*</td>\n",
       "      <td>Positive</td>\n",
       "      <td>GNPS-LIBRARY</td>\n",
       "      <td>Hoiamide B M+H</td>\n",
       "      <td>Gerwick</td>\n",
       "      <td>...</td>\n",
       "      <td>CCC[C@@H](C)[C@@H]([C@H](C)[C@@H]1[C@H]([C@H](...</td>\n",
       "      <td>InChI=1S/C45H73N5O10S3/c1-14-17-24(6)34(52)26(...</td>\n",
       "      <td>N/A</td>\n",
       "      <td>N/A</td>\n",
       "      <td>mwang87</td>\n",
       "      <td>1</td>\n",
       "      <td>CCMSLIB00000001548</td>\n",
       "      <td>1</td>\n",
       "      <td>[[278.049927, 278.957642, 281.258667, 291.9960...</td>\n",
       "      <td>940.250</td>\n",
       "    </tr>\n",
       "    <tr>\n",
       "      <th>2</th>\n",
       "      <td>(456.1, None)</td>\n",
       "      <td>[0+]</td>\n",
       "      <td>2</td>\n",
       "      <td>LC-ESI-qTof</td>\n",
       "      <td>20111105_Jenia_Ger_MalyngamideC_MH_456_qb.1.1....</td>\n",
       "      <td>*..*</td>\n",
       "      <td>Positive</td>\n",
       "      <td>GNPS-LIBRARY</td>\n",
       "      <td>Malyngamide C M+H</td>\n",
       "      <td>Gerwick</td>\n",
       "      <td>...</td>\n",
       "      <td>CCCCCCC[C@@H](C/C=C/CCC(=O)NC/C(=C/Cl)/[C@@]12...</td>\n",
       "      <td>InChI=1S/C24H38ClNO5/c1-3-4-5-6-8-11-19(30-2)1...</td>\n",
       "      <td>N/A</td>\n",
       "      <td>N/A</td>\n",
       "      <td>mwang87</td>\n",
       "      <td>1</td>\n",
       "      <td>CCMSLIB00000001549</td>\n",
       "      <td>1</td>\n",
       "      <td>[[128.838745, 132.075684, 132.830322, 134.0384...</td>\n",
       "      <td>456.100</td>\n",
       "    </tr>\n",
       "    <tr>\n",
       "      <th>3</th>\n",
       "      <td>(545.0, None)</td>\n",
       "      <td>[0+]</td>\n",
       "      <td>2</td>\n",
       "      <td>LC-ESI-Ion Trap</td>\n",
       "      <td>20111105_Jenia_Ger_Scytonemin_MH_545_qb.1.1..mgf</td>\n",
       "      <td>*..*</td>\n",
       "      <td>Positive</td>\n",
       "      <td>GNPS-LIBRARY</td>\n",
       "      <td>Scytonemin M+H</td>\n",
       "      <td>Gerwick</td>\n",
       "      <td>...</td>\n",
       "      <td>OC1=CC=C(\\C=C2\\C(=O)C(C3=C4C5=C(C=CC=C5)N=C4\\C...</td>\n",
       "      <td>InChI=1S/C36H20N2O4/c39-21-13-9-19(10-14-21)17...</td>\n",
       "      <td>CGZKSPLDUIRCIO-RPCRKUJJSA-N</td>\n",
       "      <td>N/A</td>\n",
       "      <td>mwang87</td>\n",
       "      <td>1</td>\n",
       "      <td>CCMSLIB00000001550</td>\n",
       "      <td>1</td>\n",
       "      <td>[[343.896484, 345.458496, 372.684021, 386.0974...</td>\n",
       "      <td>545.000</td>\n",
       "    </tr>\n",
       "    <tr>\n",
       "      <th>4</th>\n",
       "      <td>(314.116, None)</td>\n",
       "      <td>[1+]</td>\n",
       "      <td>2</td>\n",
       "      <td>LC-ESI-qTof</td>\n",
       "      <td>A1.mgf</td>\n",
       "      <td>*..*</td>\n",
       "      <td>Positive</td>\n",
       "      <td>GNPS-LIBRARY</td>\n",
       "      <td>Salinisporamide A M+H</td>\n",
       "      <td>Fenical-Jensen-Moore</td>\n",
       "      <td>...</td>\n",
       "      <td>N/A</td>\n",
       "      <td>N/A</td>\n",
       "      <td>N/A</td>\n",
       "      <td>N/A</td>\n",
       "      <td>mwang87</td>\n",
       "      <td>1</td>\n",
       "      <td>CCMSLIB00000001551</td>\n",
       "      <td>1</td>\n",
       "      <td>[[101.015465, 101.059807, 103.002441, 103.0285...</td>\n",
       "      <td>314.116</td>\n",
       "    </tr>\n",
       "  </tbody>\n",
       "</table>\n",
       "<p>5 rows × 21 columns</p>\n",
       "</div>"
      ],
      "text/plain": [
       "           pepmass charge mslevel source_instrument  \\\n",
       "0   (981.54, None)   [0+]       2       LC-ESI-qTof   \n",
       "1   (940.25, None)   [0+]       2       LC-ESI-qTof   \n",
       "2    (456.1, None)   [0+]       2       LC-ESI-qTof   \n",
       "3    (545.0, None)   [0+]       2   LC-ESI-Ion Trap   \n",
       "4  (314.116, None)   [1+]       2       LC-ESI-qTof   \n",
       "\n",
       "                                            filename   seq   ionmode  \\\n",
       "0  130618_Ger_Jenia_WT-3-Des-MCLR_MH981.4-qb.1.1....  *..*  Positive   \n",
       "1     20111105_Anada_Ger_HoiamideB_MH940_qb.1.1..mgf  *..*  Positive   \n",
       "2  20111105_Jenia_Ger_MalyngamideC_MH_456_qb.1.1....  *..*  Positive   \n",
       "3   20111105_Jenia_Ger_Scytonemin_MH_545_qb.1.1..mgf  *..*  Positive   \n",
       "4                                             A1.mgf  *..*  Positive   \n",
       "\n",
       "       organism                       name                    pi  ...  \\\n",
       "0  GNPS-LIBRARY  3-Des-Microcystein_LR M+H               Gerwick  ...   \n",
       "1  GNPS-LIBRARY             Hoiamide B M+H               Gerwick  ...   \n",
       "2  GNPS-LIBRARY          Malyngamide C M+H               Gerwick  ...   \n",
       "3  GNPS-LIBRARY             Scytonemin M+H               Gerwick  ...   \n",
       "4  GNPS-LIBRARY      Salinisporamide A M+H  Fenical-Jensen-Moore  ...   \n",
       "\n",
       "                                              smiles  \\\n",
       "0  CC(C)CC1NC(=O)C(C)NC(=O)C(=C)N(C)C(=O)CCC(NC(=...   \n",
       "1  CCC[C@@H](C)[C@@H]([C@H](C)[C@@H]1[C@H]([C@H](...   \n",
       "2  CCCCCCC[C@@H](C/C=C/CCC(=O)NC/C(=C/Cl)/[C@@]12...   \n",
       "3  OC1=CC=C(\\C=C2\\C(=O)C(C3=C4C5=C(C=CC=C5)N=C4\\C...   \n",
       "4                                                N/A   \n",
       "\n",
       "                                               inchi  \\\n",
       "0                                                N/A   \n",
       "1  InChI=1S/C45H73N5O10S3/c1-14-17-24(6)34(52)26(...   \n",
       "2  InChI=1S/C24H38ClNO5/c1-3-4-5-6-8-11-19(30-2)1...   \n",
       "3  InChI=1S/C36H20N2O4/c39-21-13-9-19(10-14-21)17...   \n",
       "4                                                N/A   \n",
       "\n",
       "                      inchiaux pubmed submituser libraryquality  \\\n",
       "0                          N/A    N/A    mwang87              1   \n",
       "1                          N/A    N/A    mwang87              1   \n",
       "2                          N/A    N/A    mwang87              1   \n",
       "3  CGZKSPLDUIRCIO-RPCRKUJJSA-N    N/A    mwang87              1   \n",
       "4                          N/A    N/A    mwang87              1   \n",
       "\n",
       "           spectrumid scans  \\\n",
       "0  CCMSLIB00000001547     1   \n",
       "1  CCMSLIB00000001548     1   \n",
       "2  CCMSLIB00000001549     1   \n",
       "3  CCMSLIB00000001550     1   \n",
       "4  CCMSLIB00000001551     1   \n",
       "\n",
       "                                            spectrum precursor_mz  \n",
       "0  [[289.286377, 295.545288, 298.489624, 317.3249...      981.540  \n",
       "1  [[278.049927, 278.957642, 281.258667, 291.9960...      940.250  \n",
       "2  [[128.838745, 132.075684, 132.830322, 134.0384...      456.100  \n",
       "3  [[343.896484, 345.458496, 372.684021, 386.0974...      545.000  \n",
       "4  [[101.015465, 101.059807, 103.002441, 103.0285...      314.116  \n",
       "\n",
       "[5 rows x 21 columns]"
      ]
     },
     "execution_count": 5,
     "metadata": {},
     "output_type": "execute_result"
    }
   ],
   "source": [
    "mgf.head()"
   ]
  },
  {
   "cell_type": "code",
   "execution_count": 6,
   "id": "cf549bef-6656-4613-b0da-3ebc1213df51",
   "metadata": {},
   "outputs": [
    {
     "data": {
      "text/html": [
       "<div>\n",
       "<style scoped>\n",
       "    .dataframe tbody tr th:only-of-type {\n",
       "        vertical-align: middle;\n",
       "    }\n",
       "\n",
       "    .dataframe tbody tr th {\n",
       "        vertical-align: top;\n",
       "    }\n",
       "\n",
       "    .dataframe thead th {\n",
       "        text-align: right;\n",
       "    }\n",
       "</style>\n",
       "<table border=\"1\" class=\"dataframe\">\n",
       "  <thead>\n",
       "    <tr style=\"text-align: right;\">\n",
       "      <th></th>\n",
       "      <th>id</th>\n",
       "      <th>ms_level</th>\n",
       "      <th>rt</th>\n",
       "      <th>spectrum</th>\n",
       "      <th>precursor_mz</th>\n",
       "      <th>i</th>\n",
       "      <th>charge</th>\n",
       "    </tr>\n",
       "  </thead>\n",
       "  <tbody>\n",
       "    <tr>\n",
       "      <th>0</th>\n",
       "      <td>29</td>\n",
       "      <td>2</td>\n",
       "      <td>0.074056</td>\n",
       "      <td>[[51.023495, 52.39509, 53.00283, 53.039024, 56...</td>\n",
       "      <td>149.059667</td>\n",
       "      <td>2.787562e+06</td>\n",
       "      <td>1.0</td>\n",
       "    </tr>\n",
       "    <tr>\n",
       "      <th>1</th>\n",
       "      <td>30</td>\n",
       "      <td>2</td>\n",
       "      <td>0.077625</td>\n",
       "      <td>[[57.16054, 62.25457, 89.9055, 109.89806, 111....</td>\n",
       "      <td>337.104489</td>\n",
       "      <td>1.578322e+06</td>\n",
       "      <td>1.0</td>\n",
       "    </tr>\n",
       "    <tr>\n",
       "      <th>2</th>\n",
       "      <td>31</td>\n",
       "      <td>2</td>\n",
       "      <td>0.081175</td>\n",
       "      <td>[[53.03918, 54.165733, 64.39659, 77.03844, 82....</td>\n",
       "      <td>163.075234</td>\n",
       "      <td>7.590549e+05</td>\n",
       "      <td>1.0</td>\n",
       "    </tr>\n",
       "    <tr>\n",
       "      <th>3</th>\n",
       "      <td>32</td>\n",
       "      <td>2</td>\n",
       "      <td>0.084741</td>\n",
       "      <td>[[50.71475, 54.151115, 66.84381, 67.95492, 78....</td>\n",
       "      <td>360.180406</td>\n",
       "      <td>7.438408e+05</td>\n",
       "      <td>1.0</td>\n",
       "    </tr>\n",
       "    <tr>\n",
       "      <th>4</th>\n",
       "      <td>34</td>\n",
       "      <td>2</td>\n",
       "      <td>0.094643</td>\n",
       "      <td>[[64.33035, 84.11954, 90.76483, 103.29681, 110...</td>\n",
       "      <td>388.211635</td>\n",
       "      <td>3.552219e+05</td>\n",
       "      <td>1.0</td>\n",
       "    </tr>\n",
       "  </tbody>\n",
       "</table>\n",
       "</div>"
      ],
      "text/plain": [
       "   id  ms_level        rt                                           spectrum  \\\n",
       "0  29         2  0.074056  [[51.023495, 52.39509, 53.00283, 53.039024, 56...   \n",
       "1  30         2  0.077625  [[57.16054, 62.25457, 89.9055, 109.89806, 111....   \n",
       "2  31         2  0.081175  [[53.03918, 54.165733, 64.39659, 77.03844, 82....   \n",
       "3  32         2  0.084741  [[50.71475, 54.151115, 66.84381, 67.95492, 78....   \n",
       "4  34         2  0.094643  [[64.33035, 84.11954, 90.76483, 103.29681, 110...   \n",
       "\n",
       "   precursor_mz             i  charge  \n",
       "0    149.059667  2.787562e+06     1.0  \n",
       "1    337.104489  1.578322e+06     1.0  \n",
       "2    163.075234  7.590549e+05     1.0  \n",
       "3    360.180406  7.438408e+05     1.0  \n",
       "4    388.211635  3.552219e+05     1.0  "
      ]
     },
     "execution_count": 6,
     "metadata": {},
     "output_type": "execute_result"
    }
   ],
   "source": [
    "mzml.head()"
   ]
  },
  {
   "cell_type": "markdown",
   "id": "3bc68473-ee2e-4503-aabf-e05b07f987f4",
   "metadata": {},
   "source": [
    "## Step 2: \"Discretize\" Spectra"
   ]
  },
  {
   "cell_type": "markdown",
   "id": "b0e1c588-2dac-43a5-932f-f98636950d37",
   "metadata": {},
   "source": [
    "#### Prior to scoring, each set of spectra is discretized. This process converts lists of m/z and intensity arrays and precursor m/zs into dictionary-based sparse matrices.  "
   ]
  },
  {
   "cell_type": "markdown",
   "id": "bd825aa8-69e0-4317-9ca5-69af8fefbd54",
   "metadata": {},
   "source": [
    "__blink.discretize_spectra():__\n",
    "<br>\n",
    "This function takes lists of fragmentation spectra and precursor m/zs as input and outputs a dictionary that contains intensity values, binned m/z values, and precursor m/z values. \n",
    "<br>\n",
    "__Parameters:__\n",
    "<br>\n",
    "1. bin_width (default=0.001). This value is used to convert the m/z floats into rounded integer bins. Using smaller bin widths, precision increases and speed decreases. Example of binning calculation using default values. 100.002 --> 100002\n",
    "2. intensity_power (default=0.5). The intensity power parameter scales intensity values used in the scoring. \n",
    "3. trim_empty (default=False). If True, spectra and associated metadata will be removed if the spectra are empty.\n",
    "4. remove_duplicates (default=False). This parameter optionally calls blink.remove_duplicate_ions, which averages m/z values and sums the intensities of fragment ions in a spectrum that are within a minumum distance. This can be useful for spectra that are noisy or poorly centroided.\n",
    "5. calc_network_score (default=True). Optionally, BLINK can be used for molecular networking. If enabled in this step, the function will calculate another set of spectra where the m/z are subtracted from the precursor m/z for that particular spectrum. \n",
    "6. metadata (default=None). Any desired metadata is stored with this variable. If the default of None is used, the metadata will be the number of ions in each spectrum. "
   ]
  },
  {
   "cell_type": "markdown",
   "id": "7e21b92f-719c-4580-a7aa-8e667cb3d96f",
   "metadata": {},
   "source": [
    "__Example Code:__"
   ]
  },
  {
   "cell_type": "code",
   "execution_count": 7,
   "id": "46e2a08e-cace-4c6e-9efa-aab0365fd60b",
   "metadata": {},
   "outputs": [
    {
     "name": "stderr",
     "output_type": "stream",
     "text": [
      "../blink.py:102: RuntimeWarning: divide by zero encountered in double_scalars\n",
      "  inorm = np.array([1./np.linalg.norm(mzi[1]**intensity_power) for mzi in mzis])\n"
     ]
    }
   ],
   "source": [
    "discretized_mgf = blink.discretize_spectra(mgf.spectrum.tolist(), mgf.precursor_mz.tolist(),\n",
    "                                         bin_width=0.001, intensity_power=0.5, trim_empty=False, remove_duplicates=False, calc_network_score=False,\n",
    "                                         metadata=mgf.drop(columns=['spectrum']).to_dict(orient='records'))\n",
    "\n",
    "discretized_mzml = blink.discretize_spectra(mzml.spectrum.tolist(), mzml.precursor_mz.tolist(),\n",
    "                                         bin_width=0.001, intensity_power=0.5, trim_empty=False, remove_duplicates=False, calc_network_score=False,\n",
    "                                         metadata=mzml.drop(columns=['spectrum']).to_dict(orient='records'))"
   ]
  },
  {
   "cell_type": "markdown",
   "id": "122fd25e-c16d-4b83-bef7-4730e7decef6",
   "metadata": {},
   "source": [
    "Discretized spectra can be pre-computed and saved as numpy npz files using __blink.write_sparse_msms_file()__."
   ]
  },
  {
   "cell_type": "code",
   "execution_count": 8,
   "id": "39f3ffed-2cdf-44ab-8605-61d18bad5d12",
   "metadata": {},
   "outputs": [],
   "source": [
    "blink.write_sparse_msms_file('sparse_mgf.npz', discretized_mgf)\n",
    "blink.write_sparse_msms_file('sparse_mzml.npz', discretized_mzml)"
   ]
  },
  {
   "cell_type": "markdown",
   "id": "f7c52511-cf52-4781-b1f1-dbd109163e14",
   "metadata": {},
   "source": [
    "Likewise, saved pre-computed sparse spectra can be read with __blink.open_sparse_msms_file()__."
   ]
  },
  {
   "cell_type": "code",
   "execution_count": 9,
   "id": "1bcf87d4-1c95-453b-9380-e96c64fbf4db",
   "metadata": {},
   "outputs": [],
   "source": [
    "sparse_mgf = blink.open_sparse_msms_file('sparse_mgf.npz')\n",
    "sparse_mzml = blink.open_sparse_msms_file('sparse_mzml.npz')"
   ]
  },
  {
   "cell_type": "markdown",
   "id": "3b6a9220-4eea-4d81-a4f8-a2b52aae879f",
   "metadata": {},
   "source": [
    "## Step 3: Score Spectra"
   ]
  },
  {
   "cell_type": "markdown",
   "id": "64e993da-1ee8-447e-983e-8c2d79e3cc53",
   "metadata": {},
   "source": [
    "#### Next, the two sets of spectra are scored against eachother. Given discretized spectra inputs, a matrix of pairwise scores is generated."
   ]
  },
  {
   "cell_type": "markdown",
   "id": "4e6af66a-5df3-4204-8366-cd820f0e3ad8",
   "metadata": {},
   "source": [
    "__blink.score_sprase_spectra():__\n",
    "<br>\n",
    "This function calculates the pairwise score and matching ion count matrices.\n",
    "<br>\n",
    "__Parameters:__\n",
    "1. tolerance (default=0.01). The tolerance parameter is the minumum value between fragment ion m/zs to be considered \"matching\" and factor into the cosine based score. However, the true tolerance of the scoring algorithm is determined by both the \"tolerance\" parameter and the bin width such that true tolerance is \"tolerance\" - \"bin_width\".\n",
    "2. mass_diffs (default=[0]). This optional parameter allows the user to score spectra against spectra shifted by user defined chemical masses. The default value of 0 does not shift the spectra. This feature is still in development. \n",
    "3. react_steps (default=1). This value expands the mass_diffs by a specified number of steps. This feature is still in development\n",
    "4. calc_network_score (default=True). Whether or not to calculate the molecular network score. If True, the nuetral loss spectra computed during disrectization of scored. "
   ]
  },
  {
   "cell_type": "code",
   "execution_count": 10,
   "id": "aaef3049-d235-4812-8e4d-e495300723ad",
   "metadata": {},
   "outputs": [],
   "source": [
    "S12 = blink.score_sparse_spectra(sparse_mgf, sparse_mzml, tolerance=0.01, mass_diffs=[0], react_steps=1, calc_network_score=False)"
   ]
  },
  {
   "cell_type": "code",
   "execution_count": 11,
   "id": "0d7edda4-3a7c-4e86-a50e-8301c50af3ea",
   "metadata": {},
   "outputs": [
    {
     "data": {
      "text/plain": [
       "<12914x3038 sparse matrix of type '<class 'numpy.float64'>'\n",
       "\twith 17671043 stored elements in Compressed Sparse Row format>"
      ]
     },
     "execution_count": 11,
     "metadata": {},
     "output_type": "execute_result"
    }
   ],
   "source": [
    "#cosine similarity scores\n",
    "S12['mzi']"
   ]
  },
  {
   "cell_type": "code",
   "execution_count": 12,
   "id": "7f8b7175-891a-4929-84ce-6e1c9bcb54bd",
   "metadata": {},
   "outputs": [
    {
     "data": {
      "text/plain": [
       "<12914x3038 sparse matrix of type '<class 'numpy.int64'>'\n",
       "\twith 17671043 stored elements in Compressed Sparse Row format>"
      ]
     },
     "execution_count": 12,
     "metadata": {},
     "output_type": "execute_result"
    }
   ],
   "source": [
    "#matching ion counts\n",
    "S12['mzc']"
   ]
  },
  {
   "cell_type": "markdown",
   "id": "df922ce7-c41f-4961-a318-47143a0d8c9e",
   "metadata": {},
   "source": [
    "## Step 4: Filter Scores"
   ]
  },
  {
   "cell_type": "markdown",
   "id": "122a688f-3d37-4e45-9baf-a47e532f8e54",
   "metadata": {},
   "source": [
    "#### BLINK has several helper functions to convert the raw score and count matrices into human readable outputs. "
   ]
  },
  {
   "cell_type": "markdown",
   "id": "0b148569-9d47-47f1-b285-0608e152abe5",
   "metadata": {
    "tags": []
   },
   "source": [
    "__blink.filter_hits()__\n",
    "<br>\n",
    "This function filters the score and count matrices to only include those above a user defined cutoff\n",
    "<br>\n",
    "__Optional Parameters:__\n",
    "1. good_score (default=0.5). This is the lowest score that will be kept from the score matrix.\n",
    "2. min_matches (default=5). The minumum number of matching ions to keep the score. \n",
    "3. good_matches (default=20). Keep scores with greater than or equal to this number of matches even if the score is lower than the good_score variable.\n",
    "4. calc_network_score (default=True). If true, filter scores using the maximum of the precursor shifted and un-shifted score/matches. "
   ]
  },
  {
   "cell_type": "code",
   "execution_count": 13,
   "id": "35f5040a-82c8-436b-a1a5-c66c424d3806",
   "metadata": {},
   "outputs": [],
   "source": [
    "filtered_S12 = blink.filter_hits(S12, min_matches=5, good_matches=20, good_score=0.6, calc_network_score=False)"
   ]
  },
  {
   "cell_type": "markdown",
   "id": "2b1ccc08-6cba-4a5a-b04c-24d7119a00a7",
   "metadata": {},
   "source": [
    "__blink.create_blink_matrix():__\n",
    "<br>\n",
    "This is a helper function that reshapes the score/matches matrices such that they can be easily associated with the spectral metadata\n",
    "<br>\n",
    "__Optional Parameters:__\n",
    "1. calc_network_score (default=True). If true, create reshaped array with network score/matches as data"
   ]
  },
  {
   "cell_type": "code",
   "execution_count": 14,
   "id": "f9434576-e66b-4b86-97fc-81d08ae93f6d",
   "metadata": {},
   "outputs": [],
   "source": [
    "m = blink.create_blink_matrix_format(filtered_S12, calc_network_score=False)"
   ]
  },
  {
   "cell_type": "code",
   "execution_count": 15,
   "id": "0cd80d3c-5217-44e3-b527-729cdccd185e",
   "metadata": {},
   "outputs": [],
   "source": [
    "df = pd.DataFrame(m, columns=['raveled_index', 'query', 'ref', 'score', 'matches'])\n",
    "df = pd.merge(df, pd.DataFrame(S12['S1_metadata']).add_suffix('_query'), left_on='query', right_index=True, how='left')\n",
    "df = pd.merge(df, pd.DataFrame(list(S12['S2_metadata'])).add_suffix('_ref'), left_on='ref', right_index=True, how='left')"
   ]
  },
  {
   "cell_type": "code",
   "execution_count": 16,
   "id": "37d0f936-17d2-4463-ae31-89653a2af7e8",
   "metadata": {},
   "outputs": [
    {
     "data": {
      "text/html": [
       "<div>\n",
       "<style scoped>\n",
       "    .dataframe tbody tr th:only-of-type {\n",
       "        vertical-align: middle;\n",
       "    }\n",
       "\n",
       "    .dataframe tbody tr th {\n",
       "        vertical-align: top;\n",
       "    }\n",
       "\n",
       "    .dataframe thead th {\n",
       "        text-align: right;\n",
       "    }\n",
       "</style>\n",
       "<table border=\"1\" class=\"dataframe\">\n",
       "  <thead>\n",
       "    <tr style=\"text-align: right;\">\n",
       "      <th></th>\n",
       "      <th>raveled_index</th>\n",
       "      <th>query</th>\n",
       "      <th>ref</th>\n",
       "      <th>score</th>\n",
       "      <th>matches</th>\n",
       "      <th>0_query</th>\n",
       "      <th>id_ref</th>\n",
       "      <th>ms_level_ref</th>\n",
       "      <th>rt_ref</th>\n",
       "      <th>precursor_mz_ref</th>\n",
       "      <th>i_ref</th>\n",
       "      <th>charge_ref</th>\n",
       "      <th>num_ions_ref</th>\n",
       "    </tr>\n",
       "  </thead>\n",
       "  <tbody>\n",
       "    <tr>\n",
       "      <th>0</th>\n",
       "      <td>12240.0</td>\n",
       "      <td>4.0</td>\n",
       "      <td>88.0</td>\n",
       "      <td>0.115395</td>\n",
       "      <td>26.0</td>\n",
       "      <td>{'pepmass': (314.116, None), 'charge': [1+], '...</td>\n",
       "      <td>170</td>\n",
       "      <td>2</td>\n",
       "      <td>0.511913</td>\n",
       "      <td>310.128258</td>\n",
       "      <td>6.478345e+06</td>\n",
       "      <td>1.0</td>\n",
       "      <td>105</td>\n",
       "    </tr>\n",
       "    <tr>\n",
       "      <th>1</th>\n",
       "      <td>12250.0</td>\n",
       "      <td>4.0</td>\n",
       "      <td>98.0</td>\n",
       "      <td>0.148134</td>\n",
       "      <td>21.0</td>\n",
       "      <td>{'pepmass': (314.116, None), 'charge': [1+], '...</td>\n",
       "      <td>183</td>\n",
       "      <td>2</td>\n",
       "      <td>0.556523</td>\n",
       "      <td>280.117800</td>\n",
       "      <td>8.729133e+05</td>\n",
       "      <td>NaN</td>\n",
       "      <td>69</td>\n",
       "    </tr>\n",
       "    <tr>\n",
       "      <th>2</th>\n",
       "      <td>12557.0</td>\n",
       "      <td>4.0</td>\n",
       "      <td>405.0</td>\n",
       "      <td>0.086961</td>\n",
       "      <td>20.0</td>\n",
       "      <td>{'pepmass': (314.116, None), 'charge': [1+], '...</td>\n",
       "      <td>566</td>\n",
       "      <td>2</td>\n",
       "      <td>1.859129</td>\n",
       "      <td>265.155100</td>\n",
       "      <td>2.832238e+06</td>\n",
       "      <td>NaN</td>\n",
       "      <td>108</td>\n",
       "    </tr>\n",
       "    <tr>\n",
       "      <th>3</th>\n",
       "      <td>12712.0</td>\n",
       "      <td>4.0</td>\n",
       "      <td>560.0</td>\n",
       "      <td>0.097227</td>\n",
       "      <td>20.0</td>\n",
       "      <td>{'pepmass': (314.116, None), 'charge': [1+], '...</td>\n",
       "      <td>760</td>\n",
       "      <td>2</td>\n",
       "      <td>2.507878</td>\n",
       "      <td>211.075390</td>\n",
       "      <td>2.571002e+06</td>\n",
       "      <td>1.0</td>\n",
       "      <td>96</td>\n",
       "    </tr>\n",
       "    <tr>\n",
       "      <th>4</th>\n",
       "      <td>12724.0</td>\n",
       "      <td>4.0</td>\n",
       "      <td>572.0</td>\n",
       "      <td>0.080610</td>\n",
       "      <td>25.0</td>\n",
       "      <td>{'pepmass': (314.116, None), 'charge': [1+], '...</td>\n",
       "      <td>775</td>\n",
       "      <td>2</td>\n",
       "      <td>2.559793</td>\n",
       "      <td>265.143100</td>\n",
       "      <td>2.030908e+06</td>\n",
       "      <td>NaN</td>\n",
       "      <td>136</td>\n",
       "    </tr>\n",
       "  </tbody>\n",
       "</table>\n",
       "</div>"
      ],
      "text/plain": [
       "   raveled_index  query    ref     score  matches  \\\n",
       "0        12240.0    4.0   88.0  0.115395     26.0   \n",
       "1        12250.0    4.0   98.0  0.148134     21.0   \n",
       "2        12557.0    4.0  405.0  0.086961     20.0   \n",
       "3        12712.0    4.0  560.0  0.097227     20.0   \n",
       "4        12724.0    4.0  572.0  0.080610     25.0   \n",
       "\n",
       "                                             0_query  id_ref  ms_level_ref  \\\n",
       "0  {'pepmass': (314.116, None), 'charge': [1+], '...     170             2   \n",
       "1  {'pepmass': (314.116, None), 'charge': [1+], '...     183             2   \n",
       "2  {'pepmass': (314.116, None), 'charge': [1+], '...     566             2   \n",
       "3  {'pepmass': (314.116, None), 'charge': [1+], '...     760             2   \n",
       "4  {'pepmass': (314.116, None), 'charge': [1+], '...     775             2   \n",
       "\n",
       "     rt_ref  precursor_mz_ref         i_ref  charge_ref  num_ions_ref  \n",
       "0  0.511913        310.128258  6.478345e+06         1.0           105  \n",
       "1  0.556523        280.117800  8.729133e+05         NaN            69  \n",
       "2  1.859129        265.155100  2.832238e+06         NaN           108  \n",
       "3  2.507878        211.075390  2.571002e+06         1.0            96  \n",
       "4  2.559793        265.143100  2.030908e+06         NaN           136  "
      ]
     },
     "execution_count": 16,
     "metadata": {},
     "output_type": "execute_result"
    }
   ],
   "source": [
    "df.head()"
   ]
  },
  {
   "cell_type": "markdown",
   "id": "dbb46b98-3f49-4cfa-953b-582091bed48f",
   "metadata": {},
   "source": [
    "## Using Task Runner"
   ]
  },
  {
   "cell_type": "markdown",
   "id": "9f064952-39ba-4f11-9617-d15af74e21c3",
   "metadata": {},
   "source": [
    "#### BLINK also includes a simple task-running function that covers many use cases."
   ]
  },
  {
   "cell_type": "markdown",
   "id": "f7e7c103-7bf1-4a8b-b933-80da5bfe4048",
   "metadata": {},
   "source": [
    "__blink.get_blink_hits()__\n",
    "<br>\n",
    "This function takes input data as Pandas DataFrames that contain a \"spectrum\" and \"precursor_mz\" column, or mzML/MGF data files. Output is a filtered, formatted DataFrame with scores and matches between all MS2 spectra.\n",
    "<br>\n",
    "__Optional Parameters:__\n",
    "1. calc_network_score (default=True): This parameter determines whether or not the network score (max of precursor mz shifted and unshifted mz score/matches) is calculated.\n",
    "2. min_matches (default=5): See blink.filter_hits\n",
    "3. good_matches (default=20): See blink.filter_hits\n",
    "4. good_score (default=0.55): See blink.filter_hits\n",
    "5. precursor_match (default=5): If not False, the output DataFrame is filtered to remove comparisons with precursor m/zs with a greater difference than the value of precursor_match in ppm."
   ]
  },
  {
   "cell_type": "code",
   "execution_count": 17,
   "id": "af37c2c9-0499-4469-b7ed-b8eb2a650f41",
   "metadata": {},
   "outputs": [
    {
     "name": "stderr",
     "output_type": "stream",
     "text": [
      "../blink.py:102: RuntimeWarning: divide by zero encountered in double_scalars\n",
      "  inorm = np.array([1./np.linalg.norm(mzi[1]**intensity_power) for mzi in mzis])\n"
     ]
    }
   ],
   "source": [
    "df = blink.get_blink_hits(mgf, mzml, calc_network_score=False, precursor_match=5)"
   ]
  },
  {
   "cell_type": "code",
   "execution_count": 18,
   "id": "d9a01ec8-ef45-407d-bc91-2e8cbe5aca69",
   "metadata": {},
   "outputs": [
    {
     "data": {
      "text/html": [
       "<div>\n",
       "<style scoped>\n",
       "    .dataframe tbody tr th:only-of-type {\n",
       "        vertical-align: middle;\n",
       "    }\n",
       "\n",
       "    .dataframe tbody tr th {\n",
       "        vertical-align: top;\n",
       "    }\n",
       "\n",
       "    .dataframe thead th {\n",
       "        text-align: right;\n",
       "    }\n",
       "</style>\n",
       "<table border=\"1\" class=\"dataframe\">\n",
       "  <thead>\n",
       "    <tr style=\"text-align: right;\">\n",
       "      <th></th>\n",
       "      <th>raveled_index</th>\n",
       "      <th>query</th>\n",
       "      <th>ref</th>\n",
       "      <th>score</th>\n",
       "      <th>matches</th>\n",
       "      <th>pepmass_query</th>\n",
       "      <th>charge_query</th>\n",
       "      <th>mslevel_query</th>\n",
       "      <th>source_instrument_query</th>\n",
       "      <th>filename_query</th>\n",
       "      <th>...</th>\n",
       "      <th>precursor_mz_ref</th>\n",
       "      <th>i_ref</th>\n",
       "      <th>charge_ref</th>\n",
       "      <th>num_ions_ref</th>\n",
       "      <th>precursor_ppm_diff</th>\n",
       "      <th>jaccard_matches</th>\n",
       "      <th>overlap_matches</th>\n",
       "      <th>score_rank</th>\n",
       "      <th>matches_rank</th>\n",
       "      <th>jaccard_matches_rank</th>\n",
       "    </tr>\n",
       "  </thead>\n",
       "  <tbody>\n",
       "    <tr>\n",
       "      <th>1458</th>\n",
       "      <td>207514.0</td>\n",
       "      <td>68.0</td>\n",
       "      <td>930.0</td>\n",
       "      <td>0.414345</td>\n",
       "      <td>35.0</td>\n",
       "      <td>(323.258, None)</td>\n",
       "      <td>[1+]</td>\n",
       "      <td>2</td>\n",
       "      <td>LC-ESI-qTof</td>\n",
       "      <td>C9.mgf</td>\n",
       "      <td>...</td>\n",
       "      <td>323.258236</td>\n",
       "      <td>970822.125</td>\n",
       "      <td>1.0</td>\n",
       "      <td>107</td>\n",
       "      <td>0.730567</td>\n",
       "      <td>0.230263</td>\n",
       "      <td>0.4375</td>\n",
       "      <td>2.0</td>\n",
       "      <td>4.0</td>\n",
       "      <td>2.0</td>\n",
       "    </tr>\n",
       "    <tr>\n",
       "      <th>1689</th>\n",
       "      <td>207876.0</td>\n",
       "      <td>68.0</td>\n",
       "      <td>1292.0</td>\n",
       "      <td>0.469656</td>\n",
       "      <td>46.0</td>\n",
       "      <td>(323.258, None)</td>\n",
       "      <td>[1+]</td>\n",
       "      <td>2</td>\n",
       "      <td>LC-ESI-qTof</td>\n",
       "      <td>C9.mgf</td>\n",
       "      <td>...</td>\n",
       "      <td>323.258019</td>\n",
       "      <td>6095855.000</td>\n",
       "      <td>1.0</td>\n",
       "      <td>174</td>\n",
       "      <td>0.058503</td>\n",
       "      <td>0.221154</td>\n",
       "      <td>0.5750</td>\n",
       "      <td>1.0</td>\n",
       "      <td>1.0</td>\n",
       "      <td>4.0</td>\n",
       "    </tr>\n",
       "    <tr>\n",
       "      <th>1852</th>\n",
       "      <td>208350.0</td>\n",
       "      <td>68.0</td>\n",
       "      <td>1766.0</td>\n",
       "      <td>0.388938</td>\n",
       "      <td>41.0</td>\n",
       "      <td>(323.258, None)</td>\n",
       "      <td>[1+]</td>\n",
       "      <td>2</td>\n",
       "      <td>LC-ESI-qTof</td>\n",
       "      <td>C9.mgf</td>\n",
       "      <td>...</td>\n",
       "      <td>323.257627</td>\n",
       "      <td>5735303.000</td>\n",
       "      <td>1.0</td>\n",
       "      <td>139</td>\n",
       "      <td>1.155004</td>\n",
       "      <td>0.230337</td>\n",
       "      <td>0.5125</td>\n",
       "      <td>3.0</td>\n",
       "      <td>2.0</td>\n",
       "      <td>1.0</td>\n",
       "    </tr>\n",
       "    <tr>\n",
       "      <th>1883</th>\n",
       "      <td>208530.0</td>\n",
       "      <td>68.0</td>\n",
       "      <td>1946.0</td>\n",
       "      <td>0.353129</td>\n",
       "      <td>31.0</td>\n",
       "      <td>(323.258, None)</td>\n",
       "      <td>[1+]</td>\n",
       "      <td>2</td>\n",
       "      <td>LC-ESI-qTof</td>\n",
       "      <td>C9.mgf</td>\n",
       "      <td>...</td>\n",
       "      <td>323.257800</td>\n",
       "      <td>1955164.750</td>\n",
       "      <td>NaN</td>\n",
       "      <td>103</td>\n",
       "      <td>0.618701</td>\n",
       "      <td>0.203947</td>\n",
       "      <td>0.3875</td>\n",
       "      <td>5.0</td>\n",
       "      <td>5.0</td>\n",
       "      <td>5.0</td>\n",
       "    </tr>\n",
       "    <tr>\n",
       "      <th>1906</th>\n",
       "      <td>208626.0</td>\n",
       "      <td>68.0</td>\n",
       "      <td>2042.0</td>\n",
       "      <td>0.367442</td>\n",
       "      <td>36.0</td>\n",
       "      <td>(323.258, None)</td>\n",
       "      <td>[1+]</td>\n",
       "      <td>2</td>\n",
       "      <td>LC-ESI-qTof</td>\n",
       "      <td>C9.mgf</td>\n",
       "      <td>...</td>\n",
       "      <td>323.258327</td>\n",
       "      <td>1891701.125</td>\n",
       "      <td>1.0</td>\n",
       "      <td>118</td>\n",
       "      <td>1.012563</td>\n",
       "      <td>0.222222</td>\n",
       "      <td>0.4500</td>\n",
       "      <td>4.0</td>\n",
       "      <td>3.0</td>\n",
       "      <td>3.0</td>\n",
       "    </tr>\n",
       "  </tbody>\n",
       "</table>\n",
       "<p>5 rows × 39 columns</p>\n",
       "</div>"
      ],
      "text/plain": [
       "      raveled_index  query     ref     score  matches    pepmass_query  \\\n",
       "1458       207514.0   68.0   930.0  0.414345     35.0  (323.258, None)   \n",
       "1689       207876.0   68.0  1292.0  0.469656     46.0  (323.258, None)   \n",
       "1852       208350.0   68.0  1766.0  0.388938     41.0  (323.258, None)   \n",
       "1883       208530.0   68.0  1946.0  0.353129     31.0  (323.258, None)   \n",
       "1906       208626.0   68.0  2042.0  0.367442     36.0  (323.258, None)   \n",
       "\n",
       "     charge_query mslevel_query source_instrument_query filename_query  ...  \\\n",
       "1458         [1+]             2             LC-ESI-qTof         C9.mgf  ...   \n",
       "1689         [1+]             2             LC-ESI-qTof         C9.mgf  ...   \n",
       "1852         [1+]             2             LC-ESI-qTof         C9.mgf  ...   \n",
       "1883         [1+]             2             LC-ESI-qTof         C9.mgf  ...   \n",
       "1906         [1+]             2             LC-ESI-qTof         C9.mgf  ...   \n",
       "\n",
       "     precursor_mz_ref        i_ref charge_ref num_ions_ref precursor_ppm_diff  \\\n",
       "1458       323.258236   970822.125        1.0          107           0.730567   \n",
       "1689       323.258019  6095855.000        1.0          174           0.058503   \n",
       "1852       323.257627  5735303.000        1.0          139           1.155004   \n",
       "1883       323.257800  1955164.750        NaN          103           0.618701   \n",
       "1906       323.258327  1891701.125        1.0          118           1.012563   \n",
       "\n",
       "     jaccard_matches overlap_matches score_rank matches_rank  \\\n",
       "1458        0.230263          0.4375        2.0          4.0   \n",
       "1689        0.221154          0.5750        1.0          1.0   \n",
       "1852        0.230337          0.5125        3.0          2.0   \n",
       "1883        0.203947          0.3875        5.0          5.0   \n",
       "1906        0.222222          0.4500        4.0          3.0   \n",
       "\n",
       "     jaccard_matches_rank  \n",
       "1458                  2.0  \n",
       "1689                  4.0  \n",
       "1852                  1.0  \n",
       "1883                  5.0  \n",
       "1906                  3.0  \n",
       "\n",
       "[5 rows x 39 columns]"
      ]
     },
     "execution_count": 18,
     "metadata": {},
     "output_type": "execute_result"
    }
   ],
   "source": [
    "df.head()"
   ]
  },
  {
   "cell_type": "code",
   "execution_count": null,
   "id": "87a90cff-342c-4847-878f-512ef4c84a84",
   "metadata": {},
   "outputs": [],
   "source": []
  }
 ],
 "metadata": {
  "kernelspec": {
   "display_name": "blink-env",
   "language": "python",
   "name": "blink-env"
  },
  "language_info": {
   "codemirror_mode": {
    "name": "ipython",
    "version": 3
   },
   "file_extension": ".py",
   "mimetype": "text/x-python",
   "name": "python",
   "nbconvert_exporter": "python",
   "pygments_lexer": "ipython3",
   "version": "3.7.13"
  }
 },
 "nbformat": 4,
 "nbformat_minor": 5
}
