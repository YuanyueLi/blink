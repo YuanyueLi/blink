{
 "cells": [
  {
   "cell_type": "markdown",
   "id": "f242c12c-71ba-40dc-8e8e-6f33714f3cae",
   "metadata": {},
   "source": [
    "# BLINK Tutorial"
   ]
  },
  {
   "cell_type": "code",
   "execution_count": 1,
   "id": "85208944-d7a0-4c0b-9091-95c8aacb885b",
   "metadata": {},
   "outputs": [],
   "source": [
    "import sys\n",
    "sys.path.insert(0, '../')\n",
    "\n",
    "import blink\n",
    "import pandas as pd"
   ]
  },
  {
   "cell_type": "markdown",
   "id": "d8a087fd-63bf-4f9b-b869-7e3977480ed6",
   "metadata": {},
   "source": [
    "## Step 1: Read Input Data"
   ]
  },
  {
   "cell_type": "markdown",
   "id": "31d38869-cb7a-40a5-bfbb-6bb959c14d03",
   "metadata": {},
   "source": [
    "#### BLINK can accept MGF files, mzML files, and lists of spectra as input. Correctly formatted lists of spectra and precursor m/zs can be fed directly into the discretization function, the other file formats can be parsed using a built-in helper function. "
   ]
  },
  {
   "cell_type": "markdown",
   "id": "c0132f82-f794-4a97-bafa-6d4cefdc6f4a",
   "metadata": {},
   "source": [
    "__blink.open_msms_file():__\n",
    "<br>\n",
    "This function takes an MGF file or mzML file and converts into a Pandas DataFrame."
   ]
  },
  {
   "cell_type": "markdown",
   "id": "bdee2db8-a4bf-43c9-bb72-48c6fc525798",
   "metadata": {},
   "source": [
    "__Example Code:__"
   ]
  },
  {
   "cell_type": "code",
   "execution_count": 2,
   "id": "4edbc17f-9464-4264-8951-bda5f3ad696c",
   "metadata": {},
   "outputs": [],
   "source": [
    "#parsing MGF:\n",
    "mgf = blink.open_msms_file('example_data/small.mgf')\n",
    "\n",
    "#parsing mzML:\n",
    "mzml = blink.open_msms_file('example_data/C18_MSMS_SalicylicAcid.mzML')"
   ]
  },
  {
   "cell_type": "code",
   "execution_count": 3,
   "id": "b5990f1c-aee6-4a07-8893-bf331dd9a5a4",
   "metadata": {},
   "outputs": [
    {
     "data": {
      "text/html": [
       "<div>\n",
       "<style scoped>\n",
       "    .dataframe tbody tr th:only-of-type {\n",
       "        vertical-align: middle;\n",
       "    }\n",
       "\n",
       "    .dataframe tbody tr th {\n",
       "        vertical-align: top;\n",
       "    }\n",
       "\n",
       "    .dataframe thead th {\n",
       "        text-align: right;\n",
       "    }\n",
       "</style>\n",
       "<table border=\"1\" class=\"dataframe\">\n",
       "  <thead>\n",
       "    <tr style=\"text-align: right;\">\n",
       "      <th></th>\n",
       "      <th>name</th>\n",
       "      <th>precursor_mz</th>\n",
       "      <th>inchi</th>\n",
       "      <th>smiles</th>\n",
       "      <th>spectrumid</th>\n",
       "      <th>spectrum</th>\n",
       "    </tr>\n",
       "  </thead>\n",
       "  <tbody>\n",
       "    <tr>\n",
       "      <th>0</th>\n",
       "      <td>quinic acid CollisionEnergy:102040 2M-2H+Na</td>\n",
       "      <td>405.101</td>\n",
       "      <td>\"InChI=1S/C7H12O6/c8-3-1-7(13,6(11)12)2-4(9)5(...</td>\n",
       "      <td>C1[C@H](C([C@@H](CC1(C(=O)O)O)O)O)O</td>\n",
       "      <td>CCMSLIB00010102414</td>\n",
       "      <td>[[63.781349, 66.794624, 79.524162, 80.695747, ...</td>\n",
       "    </tr>\n",
       "    <tr>\n",
       "      <th>1</th>\n",
       "      <td>\"6-methyl-1-[(3-nitrophenyl)amino]furano[2,3-h...</td>\n",
       "      <td>337.082</td>\n",
       "      <td>\"InChI=1S/C18H12N2O5/c1-10-7-16(21)25-18-13(10...</td>\n",
       "      <td>Cc1cc(=O)oc2c1ccc1occ(Nc3cccc([N+](=O)[O-])c3)c12</td>\n",
       "      <td>CCMSLIB00010110728</td>\n",
       "      <td>[[54.141449, 92.382637, 104.289917, 131.048874...</td>\n",
       "    </tr>\n",
       "    <tr>\n",
       "      <th>2</th>\n",
       "      <td>\"{4,5-dimethoxy-3-[(3,4,5-trimethoxyphenyl)car...</td>\n",
       "      <td>445.198</td>\n",
       "      <td>\"InChI=1S/C23H30N2O7/c1-8-25(9-2)23(27)15-10-1...</td>\n",
       "      <td>CCN(CC)C(=O)c1cc(N=C(O)c2cc(OC)c(OC)c(OC)c2)c(...</td>\n",
       "      <td>CCMSLIB00010105281</td>\n",
       "      <td>[[66.804932, 83.8825, 92.385109, 104.302299, 1...</td>\n",
       "    </tr>\n",
       "    <tr>\n",
       "      <th>3</th>\n",
       "      <td>\"methyl 7-(4-chlorophenyl)-2-methyl-5-oxo-4-(3...</td>\n",
       "      <td>498.168</td>\n",
       "      <td>\"InChI=1S/C27H28ClNO6/c1-14-23(27(31)35-5)24(1...</td>\n",
       "      <td>COC(=O)C1=C(C)NC2=C(C(=O)CC(c3ccc(Cl)cc3)C2)C1...</td>\n",
       "      <td>CCMSLIB00010109604</td>\n",
       "      <td>[[60.13345, 82.429543, 103.265701, 136.881714,...</td>\n",
       "    </tr>\n",
       "    <tr>\n",
       "      <th>4</th>\n",
       "      <td>l-isoleucine CollisionEnergy:102040 M-H</td>\n",
       "      <td>130.087</td>\n",
       "      <td>\"InChI=1S/C6H13NO2/c1-3-4(2)5(7)6(8)9/h4-5H,3,...</td>\n",
       "      <td>CCC(C)C(N)C(=O)O</td>\n",
       "      <td>CCMSLIB00010109482</td>\n",
       "      <td>[[57.75724, 61.987881, 64.120399, 66.745888, 7...</td>\n",
       "    </tr>\n",
       "  </tbody>\n",
       "</table>\n",
       "</div>"
      ],
      "text/plain": [
       "                                                name  precursor_mz  \\\n",
       "0        quinic acid CollisionEnergy:102040 2M-2H+Na       405.101   \n",
       "1  \"6-methyl-1-[(3-nitrophenyl)amino]furano[2,3-h...       337.082   \n",
       "2  \"{4,5-dimethoxy-3-[(3,4,5-trimethoxyphenyl)car...       445.198   \n",
       "3  \"methyl 7-(4-chlorophenyl)-2-methyl-5-oxo-4-(3...       498.168   \n",
       "4            l-isoleucine CollisionEnergy:102040 M-H       130.087   \n",
       "\n",
       "                                               inchi  \\\n",
       "0  \"InChI=1S/C7H12O6/c8-3-1-7(13,6(11)12)2-4(9)5(...   \n",
       "1  \"InChI=1S/C18H12N2O5/c1-10-7-16(21)25-18-13(10...   \n",
       "2  \"InChI=1S/C23H30N2O7/c1-8-25(9-2)23(27)15-10-1...   \n",
       "3  \"InChI=1S/C27H28ClNO6/c1-14-23(27(31)35-5)24(1...   \n",
       "4  \"InChI=1S/C6H13NO2/c1-3-4(2)5(7)6(8)9/h4-5H,3,...   \n",
       "\n",
       "                                              smiles          spectrumid  \\\n",
       "0                C1[C@H](C([C@@H](CC1(C(=O)O)O)O)O)O  CCMSLIB00010102414   \n",
       "1  Cc1cc(=O)oc2c1ccc1occ(Nc3cccc([N+](=O)[O-])c3)c12  CCMSLIB00010110728   \n",
       "2  CCN(CC)C(=O)c1cc(N=C(O)c2cc(OC)c(OC)c(OC)c2)c(...  CCMSLIB00010105281   \n",
       "3  COC(=O)C1=C(C)NC2=C(C(=O)CC(c3ccc(Cl)cc3)C2)C1...  CCMSLIB00010109604   \n",
       "4                                   CCC(C)C(N)C(=O)O  CCMSLIB00010109482   \n",
       "\n",
       "                                            spectrum  \n",
       "0  [[63.781349, 66.794624, 79.524162, 80.695747, ...  \n",
       "1  [[54.141449, 92.382637, 104.289917, 131.048874...  \n",
       "2  [[66.804932, 83.8825, 92.385109, 104.302299, 1...  \n",
       "3  [[60.13345, 82.429543, 103.265701, 136.881714,...  \n",
       "4  [[57.75724, 61.987881, 64.120399, 66.745888, 7...  "
      ]
     },
     "execution_count": 3,
     "metadata": {},
     "output_type": "execute_result"
    }
   ],
   "source": [
    "mgf.head()"
   ]
  },
  {
   "cell_type": "code",
   "execution_count": 4,
   "id": "cf549bef-6656-4613-b0da-3ebc1213df51",
   "metadata": {},
   "outputs": [
    {
     "data": {
      "text/html": [
       "<div>\n",
       "<style scoped>\n",
       "    .dataframe tbody tr th:only-of-type {\n",
       "        vertical-align: middle;\n",
       "    }\n",
       "\n",
       "    .dataframe tbody tr th {\n",
       "        vertical-align: top;\n",
       "    }\n",
       "\n",
       "    .dataframe thead th {\n",
       "        text-align: right;\n",
       "    }\n",
       "</style>\n",
       "<table border=\"1\" class=\"dataframe\">\n",
       "  <thead>\n",
       "    <tr style=\"text-align: right;\">\n",
       "      <th></th>\n",
       "      <th>id</th>\n",
       "      <th>ms_level</th>\n",
       "      <th>rt</th>\n",
       "      <th>spectrum</th>\n",
       "      <th>precursor_mz</th>\n",
       "      <th>i</th>\n",
       "      <th>charge</th>\n",
       "    </tr>\n",
       "  </thead>\n",
       "  <tbody>\n",
       "    <tr>\n",
       "      <th>0</th>\n",
       "      <td>2</td>\n",
       "      <td>2</td>\n",
       "      <td>0.012606</td>\n",
       "      <td>[[52.607494, 69.94896, 85.77718, 90.99794, 92....</td>\n",
       "      <td>178.977600</td>\n",
       "      <td>1.507624e+06</td>\n",
       "      <td>NaN</td>\n",
       "    </tr>\n",
       "    <tr>\n",
       "      <th>1</th>\n",
       "      <td>3</td>\n",
       "      <td>2</td>\n",
       "      <td>0.014250</td>\n",
       "      <td>[[68.87898, 73.0291, 74.00742, 74.370346, 86.5...</td>\n",
       "      <td>116.928476</td>\n",
       "      <td>1.652903e+06</td>\n",
       "      <td>1.0</td>\n",
       "    </tr>\n",
       "    <tr>\n",
       "      <th>2</th>\n",
       "      <td>5</td>\n",
       "      <td>2</td>\n",
       "      <td>0.019465</td>\n",
       "      <td>[[52.82731, 56.123146, 68.89473, 92.753006, 93...</td>\n",
       "      <td>174.955902</td>\n",
       "      <td>7.799206e+05</td>\n",
       "      <td>NaN</td>\n",
       "    </tr>\n",
       "    <tr>\n",
       "      <th>3</th>\n",
       "      <td>6</td>\n",
       "      <td>2</td>\n",
       "      <td>0.021110</td>\n",
       "      <td>[[50.327473, 51.641243, 58.95839, 61.987972, 6...</td>\n",
       "      <td>146.965805</td>\n",
       "      <td>2.494821e+06</td>\n",
       "      <td>NaN</td>\n",
       "    </tr>\n",
       "    <tr>\n",
       "      <th>4</th>\n",
       "      <td>8</td>\n",
       "      <td>2</td>\n",
       "      <td>0.026325</td>\n",
       "      <td>[[53.51372, 57.077217, 57.33841, 61.98802, 74....</td>\n",
       "      <td>146.938599</td>\n",
       "      <td>3.187073e+06</td>\n",
       "      <td>NaN</td>\n",
       "    </tr>\n",
       "  </tbody>\n",
       "</table>\n",
       "</div>"
      ],
      "text/plain": [
       "   id  ms_level        rt                                           spectrum  \\\n",
       "0   2         2  0.012606  [[52.607494, 69.94896, 85.77718, 90.99794, 92....   \n",
       "1   3         2  0.014250  [[68.87898, 73.0291, 74.00742, 74.370346, 86.5...   \n",
       "2   5         2  0.019465  [[52.82731, 56.123146, 68.89473, 92.753006, 93...   \n",
       "3   6         2  0.021110  [[50.327473, 51.641243, 58.95839, 61.987972, 6...   \n",
       "4   8         2  0.026325  [[53.51372, 57.077217, 57.33841, 61.98802, 74....   \n",
       "\n",
       "   precursor_mz             i  charge  \n",
       "0    178.977600  1.507624e+06     NaN  \n",
       "1    116.928476  1.652903e+06     1.0  \n",
       "2    174.955902  7.799206e+05     NaN  \n",
       "3    146.965805  2.494821e+06     NaN  \n",
       "4    146.938599  3.187073e+06     NaN  "
      ]
     },
     "execution_count": 4,
     "metadata": {},
     "output_type": "execute_result"
    }
   ],
   "source": [
    "mzml.head()"
   ]
  },
  {
   "cell_type": "markdown",
   "id": "3bc68473-ee2e-4503-aabf-e05b07f987f4",
   "metadata": {},
   "source": [
    "## Step 2: \"Discretize\" Spectra"
   ]
  },
  {
   "cell_type": "markdown",
   "id": "b0e1c588-2dac-43a5-932f-f98636950d37",
   "metadata": {},
   "source": [
    "#### Prior to scoring, each set of spectra is discretized. This process converts lists of m/z and intensity arrays and precursor m/zs into dictionary-based sparse matrices.  "
   ]
  },
  {
   "cell_type": "markdown",
   "id": "bd825aa8-69e0-4317-9ca5-69af8fefbd54",
   "metadata": {},
   "source": [
    "__blink.discretize_spectra():__\n",
    "<br>\n",
    "This function takes lists of fragmentation spectra and precursor m/zs as input and outputs a dictionary that contains intensity values, binned m/z values, and precursor m/z values. \n",
    "<br>\n",
    "__Parameters:__\n",
    "<br>\n",
    "1. bin_width (default=0.001). This value is used to convert the m/z floats into rounded integer bins. Using smaller bin widths, precision increases and speed decreases. Example of binning calculation using default values. 100.002 --> 100002\n",
    "2. intensity_power (default=0.5). The intensity power parameter scales intensity values used in the scoring. \n",
    "3. trim_empty (default=False). If True, spectra and associated metadata will be removed if the spectra are empty.\n",
    "4. remove_duplicates (default=False). This parameter optionally calls blink.remove_duplicate_ions, which averages m/z values and sums the intensities of fragment ions in a spectrum that are within a minumum distance. This can be useful for spectra that are noisy or poorly centroided.\n",
    "5. calc_network_score (default=True). Optionally, BLINK can be used for molecular networking. If enabled in this step, the function will calculate another set of spectra where the m/z are subtracted from the precursor m/z for that particular spectrum. \n",
    "6. metadata (default=None). Any desired metadata is stored with this variable. If the default of None is used, the metadata will be the number of ions in each spectrum. "
   ]
  },
  {
   "cell_type": "markdown",
   "id": "7e21b92f-719c-4580-a7aa-8e667cb3d96f",
   "metadata": {},
   "source": [
    "__Example Code:__"
   ]
  },
  {
   "cell_type": "code",
   "execution_count": 5,
   "id": "46e2a08e-cace-4c6e-9efa-aab0365fd60b",
   "metadata": {},
   "outputs": [],
   "source": [
    "discretized_mgf = blink.discretize_spectra(mgf.spectrum.tolist(), mgf.precursor_mz.tolist(),\n",
    "                                         bin_width=0.001, intensity_power=0.5, trim_empty=False, remove_duplicates=False, calc_network_score=False,\n",
    "                                         metadata=mgf.drop(columns=['spectrum']).to_dict(orient='records'))\n",
    "\n",
    "discretized_mzml = blink.discretize_spectra(mzml.spectrum.tolist(), mzml.precursor_mz.tolist(),\n",
    "                                         bin_width=0.001, intensity_power=0.5, trim_empty=False, remove_duplicates=False, calc_network_score=False,\n",
    "                                         metadata=mzml.drop(columns=['spectrum']).to_dict(orient='records'))"
   ]
  },
  {
   "cell_type": "markdown",
   "id": "122fd25e-c16d-4b83-bef7-4730e7decef6",
   "metadata": {},
   "source": [
    "Discretized spectra can be pre-computed and saved as numpy npz files using __blink.write_sparse_msms_file()__."
   ]
  },
  {
   "cell_type": "code",
   "execution_count": 6,
   "id": "39f3ffed-2cdf-44ab-8605-61d18bad5d12",
   "metadata": {},
   "outputs": [],
   "source": [
    "blink.write_sparse_msms_file('example_data/sparse_mgf.npz', discretized_mgf)\n",
    "blink.write_sparse_msms_file('example_data/sparse_mzml.npz', discretized_mzml)"
   ]
  },
  {
   "cell_type": "markdown",
   "id": "f7c52511-cf52-4781-b1f1-dbd109163e14",
   "metadata": {},
   "source": [
    "Likewise, saved pre-computed sparse spectra can be read with __blink.open_sparse_msms_file()__."
   ]
  },
  {
   "cell_type": "code",
   "execution_count": 7,
   "id": "1bcf87d4-1c95-453b-9380-e96c64fbf4db",
   "metadata": {},
   "outputs": [],
   "source": [
    "sparse_mgf = blink.open_sparse_msms_file('example_data/sparse_mgf.npz')\n",
    "sparse_mzml = blink.open_sparse_msms_file('example_data/sparse_mzml.npz')"
   ]
  },
  {
   "cell_type": "markdown",
   "id": "3b6a9220-4eea-4d81-a4f8-a2b52aae879f",
   "metadata": {},
   "source": [
    "# Step 3: Score Spectra"
   ]
  },
  {
   "cell_type": "markdown",
   "id": "64e993da-1ee8-447e-983e-8c2d79e3cc53",
   "metadata": {},
   "source": [
    "#### Next, the two sets of spectra are scored against eachother. Given discretized spectra inputs, a matrix of pairwise scores is generated."
   ]
  },
  {
   "cell_type": "markdown",
   "id": "4e6af66a-5df3-4204-8366-cd820f0e3ad8",
   "metadata": {},
   "source": [
    "__blink.score_sprase_spectra():__\n",
    "<br>\n",
    "This function calculates the pairwise score and matching ion count matrices.\n",
    "<br>\n",
    "__Parameters:__\n",
    "1. tolerance (default=0.01). The tolerance parameter is the minumum value between fragment ion m/zs to be considered \"matching\" and factor into the cosine based score. However, the true tolerance of the scoring algorithm is determined by both the \"tolerance\" parameter and the bin width such that true tolerance is \"tolerance\" - \"bin_width\".\n",
    "2. mass_diffs (default=[0]). This optional parameter allows the user to score spectra against spectra shifted by user defined chemical masses. The default value of 0 does not shift the spectra. This feature is still in development. \n",
    "3. react_steps (default=1). This value expands the mass_diffs by a specified number of steps. This feature is still in development\n",
    "4. calc_network_score (default=True). Whether or not to calculate the molecular network score. If True, the nuetral loss spectra computed during disrectization of scored. "
   ]
  },
  {
   "cell_type": "code",
   "execution_count": 8,
   "id": "aaef3049-d235-4812-8e4d-e495300723ad",
   "metadata": {},
   "outputs": [],
   "source": [
    "S12 = blink.score_sparse_spectra(sparse_mgf, sparse_mzml, tolerance=0.01, mass_diffs=[0], react_steps=1, calc_network_score=False)"
   ]
  },
  {
   "cell_type": "code",
   "execution_count": 9,
   "id": "0d7edda4-3a7c-4e86-a50e-8301c50af3ea",
   "metadata": {},
   "outputs": [
    {
     "data": {
      "text/plain": [
       "<1000x3591 sparse matrix of type '<class 'numpy.float64'>'\n",
       "\twith 230424 stored elements in Compressed Sparse Row format>"
      ]
     },
     "execution_count": 9,
     "metadata": {},
     "output_type": "execute_result"
    }
   ],
   "source": [
    "#cosine similarity scores\n",
    "S12['mzi']"
   ]
  },
  {
   "cell_type": "code",
   "execution_count": 10,
   "id": "7f8b7175-891a-4929-84ce-6e1c9bcb54bd",
   "metadata": {},
   "outputs": [
    {
     "data": {
      "text/plain": [
       "<1000x3591 sparse matrix of type '<class 'numpy.int64'>'\n",
       "\twith 230424 stored elements in Compressed Sparse Row format>"
      ]
     },
     "execution_count": 10,
     "metadata": {},
     "output_type": "execute_result"
    }
   ],
   "source": [
    "#matching ion counts\n",
    "S12['mzc']"
   ]
  },
  {
   "cell_type": "markdown",
   "id": "df922ce7-c41f-4961-a318-47143a0d8c9e",
   "metadata": {},
   "source": [
    "# Step 4: Filter Scores"
   ]
  },
  {
   "cell_type": "markdown",
   "id": "122a688f-3d37-4e45-9baf-a47e532f8e54",
   "metadata": {},
   "source": [
    "#### BLINK has several helper functions to convert the raw score and count matrices into human readable outputs. "
   ]
  },
  {
   "cell_type": "markdown",
   "id": "0b148569-9d47-47f1-b285-0608e152abe5",
   "metadata": {
    "tags": []
   },
   "source": [
    "__blink.filter_hits()__\n",
    "<br>\n",
    "This function filters the score and count matrices to only include those above a user defined cutoff\n",
    "<br>\n",
    "__Optional Parameters:__\n",
    "1. good_score (default=0.5). This is the lowest score that will be kept from the score matrix.\n",
    "2. min_matches (default=5). The minumum number of matching ions to keep the score. \n",
    "3. good_matches (default=20). Keep scores with greater than or equal to this number of matches even if the score is lower than the good_score variable.\n",
    "4. calc_network_score (default=True). If true, filter scores using the maximum of the precursor shifted and un-shifted score/matches. "
   ]
  },
  {
   "cell_type": "code",
   "execution_count": 11,
   "id": "35f5040a-82c8-436b-a1a5-c66c424d3806",
   "metadata": {},
   "outputs": [],
   "source": [
    "filtered_S12 = blink.filter_hits(S12, min_matches=5, good_matches=20, good_score=0.6, calc_network_score=False)"
   ]
  },
  {
   "cell_type": "markdown",
   "id": "2b1ccc08-6cba-4a5a-b04c-24d7119a00a7",
   "metadata": {},
   "source": [
    "__blink.create_blink_matrix():__\n",
    "<br>\n",
    "This is a helper function that reshapes the score/matches matrices such that they can be easily associated with the spectral metadata\n",
    "<br>\n",
    "__Optional Parameters:__\n",
    "1. calc_network_score (default=True). If true, create reshaped array with network score/matches as data"
   ]
  },
  {
   "cell_type": "code",
   "execution_count": 12,
   "id": "f9434576-e66b-4b86-97fc-81d08ae93f6d",
   "metadata": {},
   "outputs": [],
   "source": [
    "m = blink.create_blink_matrix_format(filtered_S12, calc_network_score=False)"
   ]
  },
  {
   "cell_type": "code",
   "execution_count": 13,
   "id": "0cd80d3c-5217-44e3-b527-729cdccd185e",
   "metadata": {},
   "outputs": [],
   "source": [
    "df = pd.DataFrame(m, columns=['raveled_index', 'query', 'ref', 'score', 'matches'])\n",
    "df = pd.merge(df, pd.DataFrame(S12['S1_metadata']).add_suffix('_query'), left_on='query', right_index=True, how='left')\n",
    "df = pd.merge(df, pd.DataFrame(list(S12['S2_metadata'])).add_suffix('_ref'), left_on='ref', right_index=True, how='left')"
   ]
  },
  {
   "cell_type": "code",
   "execution_count": 15,
   "id": "37d0f936-17d2-4463-ae31-89653a2af7e8",
   "metadata": {},
   "outputs": [
    {
     "data": {
      "text/html": [
       "<div>\n",
       "<style scoped>\n",
       "    .dataframe tbody tr th:only-of-type {\n",
       "        vertical-align: middle;\n",
       "    }\n",
       "\n",
       "    .dataframe tbody tr th {\n",
       "        vertical-align: top;\n",
       "    }\n",
       "\n",
       "    .dataframe thead th {\n",
       "        text-align: right;\n",
       "    }\n",
       "</style>\n",
       "<table border=\"1\" class=\"dataframe\">\n",
       "  <thead>\n",
       "    <tr style=\"text-align: right;\">\n",
       "      <th></th>\n",
       "      <th>raveled_index</th>\n",
       "      <th>query</th>\n",
       "      <th>ref</th>\n",
       "      <th>score</th>\n",
       "      <th>matches</th>\n",
       "      <th>0_query</th>\n",
       "      <th>id_ref</th>\n",
       "      <th>ms_level_ref</th>\n",
       "      <th>rt_ref</th>\n",
       "      <th>precursor_mz_ref</th>\n",
       "      <th>i_ref</th>\n",
       "      <th>charge_ref</th>\n",
       "      <th>num_ions_ref</th>\n",
       "    </tr>\n",
       "  </thead>\n",
       "  <tbody>\n",
       "    <tr>\n",
       "      <th>0</th>\n",
       "      <td>639203.0</td>\n",
       "      <td>178.0</td>\n",
       "      <td>5.0</td>\n",
       "      <td>0.607461</td>\n",
       "      <td>8.0</td>\n",
       "      <td>{'name': '4-hydroxy-7-methoxy-3-nitrochromen-2...</td>\n",
       "      <td>9</td>\n",
       "      <td>2</td>\n",
       "      <td>0.027989</td>\n",
       "      <td>190.928309</td>\n",
       "      <td>2.217636e+06</td>\n",
       "      <td>1.0</td>\n",
       "      <td>20</td>\n",
       "    </tr>\n",
       "    <tr>\n",
       "      <th>1</th>\n",
       "      <td>639275.0</td>\n",
       "      <td>178.0</td>\n",
       "      <td>77.0</td>\n",
       "      <td>0.627672</td>\n",
       "      <td>9.0</td>\n",
       "      <td>{'name': '4-hydroxy-7-methoxy-3-nitrochromen-2...</td>\n",
       "      <td>117</td>\n",
       "      <td>2</td>\n",
       "      <td>0.279317</td>\n",
       "      <td>190.928223</td>\n",
       "      <td>4.394044e+06</td>\n",
       "      <td>NaN</td>\n",
       "      <td>16</td>\n",
       "    </tr>\n",
       "    <tr>\n",
       "      <th>2</th>\n",
       "      <td>641608.0</td>\n",
       "      <td>178.0</td>\n",
       "      <td>2410.0</td>\n",
       "      <td>0.644279</td>\n",
       "      <td>11.0</td>\n",
       "      <td>{'name': '4-hydroxy-7-methoxy-3-nitrochromen-2...</td>\n",
       "      <td>3617</td>\n",
       "      <td>2</td>\n",
       "      <td>8.093017</td>\n",
       "      <td>190.928085</td>\n",
       "      <td>5.153177e+06</td>\n",
       "      <td>NaN</td>\n",
       "      <td>23</td>\n",
       "    </tr>\n",
       "    <tr>\n",
       "      <th>3</th>\n",
       "      <td>641652.0</td>\n",
       "      <td>178.0</td>\n",
       "      <td>2454.0</td>\n",
       "      <td>0.619412</td>\n",
       "      <td>9.0</td>\n",
       "      <td>{'name': '4-hydroxy-7-methoxy-3-nitrochromen-2...</td>\n",
       "      <td>3683</td>\n",
       "      <td>2</td>\n",
       "      <td>8.212879</td>\n",
       "      <td>190.928146</td>\n",
       "      <td>4.672048e+06</td>\n",
       "      <td>NaN</td>\n",
       "      <td>17</td>\n",
       "    </tr>\n",
       "    <tr>\n",
       "      <th>4</th>\n",
       "      <td>641696.0</td>\n",
       "      <td>178.0</td>\n",
       "      <td>2498.0</td>\n",
       "      <td>0.601222</td>\n",
       "      <td>8.0</td>\n",
       "      <td>{'name': '4-hydroxy-7-methoxy-3-nitrochromen-2...</td>\n",
       "      <td>3749</td>\n",
       "      <td>2</td>\n",
       "      <td>8.333472</td>\n",
       "      <td>190.928116</td>\n",
       "      <td>3.062047e+06</td>\n",
       "      <td>NaN</td>\n",
       "      <td>21</td>\n",
       "    </tr>\n",
       "  </tbody>\n",
       "</table>\n",
       "</div>"
      ],
      "text/plain": [
       "   raveled_index  query     ref     score  matches  \\\n",
       "0       639203.0  178.0     5.0  0.607461      8.0   \n",
       "1       639275.0  178.0    77.0  0.627672      9.0   \n",
       "2       641608.0  178.0  2410.0  0.644279     11.0   \n",
       "3       641652.0  178.0  2454.0  0.619412      9.0   \n",
       "4       641696.0  178.0  2498.0  0.601222      8.0   \n",
       "\n",
       "                                             0_query  id_ref  ms_level_ref  \\\n",
       "0  {'name': '4-hydroxy-7-methoxy-3-nitrochromen-2...       9             2   \n",
       "1  {'name': '4-hydroxy-7-methoxy-3-nitrochromen-2...     117             2   \n",
       "2  {'name': '4-hydroxy-7-methoxy-3-nitrochromen-2...    3617             2   \n",
       "3  {'name': '4-hydroxy-7-methoxy-3-nitrochromen-2...    3683             2   \n",
       "4  {'name': '4-hydroxy-7-methoxy-3-nitrochromen-2...    3749             2   \n",
       "\n",
       "     rt_ref  precursor_mz_ref         i_ref  charge_ref  num_ions_ref  \n",
       "0  0.027989        190.928309  2.217636e+06         1.0            20  \n",
       "1  0.279317        190.928223  4.394044e+06         NaN            16  \n",
       "2  8.093017        190.928085  5.153177e+06         NaN            23  \n",
       "3  8.212879        190.928146  4.672048e+06         NaN            17  \n",
       "4  8.333472        190.928116  3.062047e+06         NaN            21  "
      ]
     },
     "execution_count": 15,
     "metadata": {},
     "output_type": "execute_result"
    }
   ],
   "source": [
    "df.head()"
   ]
  },
  {
   "cell_type": "markdown",
   "id": "dbb46b98-3f49-4cfa-953b-582091bed48f",
   "metadata": {},
   "source": [
    "# Using Task Runner"
   ]
  },
  {
   "cell_type": "markdown",
   "id": "9f064952-39ba-4f11-9617-d15af74e21c3",
   "metadata": {},
   "source": [
    "#### BLINK also includes a simple task-running function that covers many use cases."
   ]
  },
  {
   "cell_type": "markdown",
   "id": "f7e7c103-7bf1-4a8b-b933-80da5bfe4048",
   "metadata": {},
   "source": [
    "__blink.get_blink_hits()__\n",
    "<br>\n",
    "This function takes input data as Pandas DataFrames that contain a \"spectrum\" and \"precursor_mz\" column, or mzML/MGF data files. Output is a filtered, formatted DataFrame with scores and matches between all MS2 spectra.\n",
    "<br>\n",
    "__Optional Parameters:__\n",
    "1. calc_network_score (default=True): This parameter determines whether or not the network score (max of precursor mz shifted and unshifted mz score/matches) is calculated.\n",
    "2. min_matches (default=5): See blink.filter_hits\n",
    "3. good_matches (default=20): See blink.filter_hits\n",
    "4. good_score (default=0.55): See blink.filter_hits\n",
    "5. precursor_match (default=5): If not False, the output DataFrame is filtered to remove comparisons with precursor m/zs with a greater difference than the value of precursor_match in ppm."
   ]
  },
  {
   "cell_type": "code",
   "execution_count": 19,
   "id": "af37c2c9-0499-4469-b7ed-b8eb2a650f41",
   "metadata": {},
   "outputs": [],
   "source": [
    "df = blink.get_blink_hits(mgf, mzml, calc_network_score=False, precursor_match=False)"
   ]
  },
  {
   "cell_type": "code",
   "execution_count": 20,
   "id": "d9a01ec8-ef45-407d-bc91-2e8cbe5aca69",
   "metadata": {},
   "outputs": [
    {
     "data": {
      "text/html": [
       "<div>\n",
       "<style scoped>\n",
       "    .dataframe tbody tr th:only-of-type {\n",
       "        vertical-align: middle;\n",
       "    }\n",
       "\n",
       "    .dataframe tbody tr th {\n",
       "        vertical-align: top;\n",
       "    }\n",
       "\n",
       "    .dataframe thead th {\n",
       "        text-align: right;\n",
       "    }\n",
       "</style>\n",
       "<table border=\"1\" class=\"dataframe\">\n",
       "  <thead>\n",
       "    <tr style=\"text-align: right;\">\n",
       "      <th></th>\n",
       "      <th>raveled_index</th>\n",
       "      <th>query</th>\n",
       "      <th>ref</th>\n",
       "      <th>score</th>\n",
       "      <th>matches</th>\n",
       "      <th>name_query</th>\n",
       "      <th>precursor_mz_query</th>\n",
       "      <th>inchi_query</th>\n",
       "      <th>smiles_query</th>\n",
       "      <th>spectrumid_query</th>\n",
       "      <th>...</th>\n",
       "      <th>precursor_mz_ref</th>\n",
       "      <th>i_ref</th>\n",
       "      <th>charge_ref</th>\n",
       "      <th>num_ions_ref</th>\n",
       "      <th>precursor_ppm_diff</th>\n",
       "      <th>jaccard_matches</th>\n",
       "      <th>overlap_matches</th>\n",
       "      <th>score_rank</th>\n",
       "      <th>matches_rank</th>\n",
       "      <th>jaccard_matches_rank</th>\n",
       "    </tr>\n",
       "  </thead>\n",
       "  <tbody>\n",
       "    <tr>\n",
       "      <th>0</th>\n",
       "      <td>639201.0</td>\n",
       "      <td>178.0</td>\n",
       "      <td>3.0</td>\n",
       "      <td>0.570615</td>\n",
       "      <td>7.0</td>\n",
       "      <td>4-hydroxy-7-methoxy-3-nitrochromen-2-one Colli...</td>\n",
       "      <td>236.02</td>\n",
       "      <td>\"InChI=1S/C10H7NO6/c1-16-5-2-3-6-7(4-5)17-10(1...</td>\n",
       "      <td>COc1ccc2c(O)c([N+](=O)[O-])c(=O)oc2c1</td>\n",
       "      <td>CCMSLIB00010119964</td>\n",
       "      <td>...</td>\n",
       "      <td>146.965805</td>\n",
       "      <td>2.494821e+06</td>\n",
       "      <td>NaN</td>\n",
       "      <td>18</td>\n",
       "      <td>377316.307712</td>\n",
       "      <td>0.233333</td>\n",
       "      <td>0.388889</td>\n",
       "      <td>27.0</td>\n",
       "      <td>4.0</td>\n",
       "      <td>11.0</td>\n",
       "    </tr>\n",
       "    <tr>\n",
       "      <th>1</th>\n",
       "      <td>639202.0</td>\n",
       "      <td>178.0</td>\n",
       "      <td>4.0</td>\n",
       "      <td>0.568388</td>\n",
       "      <td>7.0</td>\n",
       "      <td>4-hydroxy-7-methoxy-3-nitrochromen-2-one Colli...</td>\n",
       "      <td>236.02</td>\n",
       "      <td>\"InChI=1S/C10H7NO6/c1-16-5-2-3-6-7(4-5)17-10(1...</td>\n",
       "      <td>COc1ccc2c(O)c([N+](=O)[O-])c(=O)oc2c1</td>\n",
       "      <td>CCMSLIB00010119964</td>\n",
       "      <td>...</td>\n",
       "      <td>146.938599</td>\n",
       "      <td>3.187073e+06</td>\n",
       "      <td>NaN</td>\n",
       "      <td>19</td>\n",
       "      <td>377431.579388</td>\n",
       "      <td>0.225806</td>\n",
       "      <td>0.368421</td>\n",
       "      <td>28.0</td>\n",
       "      <td>4.0</td>\n",
       "      <td>12.0</td>\n",
       "    </tr>\n",
       "    <tr>\n",
       "      <th>2</th>\n",
       "      <td>639203.0</td>\n",
       "      <td>178.0</td>\n",
       "      <td>5.0</td>\n",
       "      <td>0.607461</td>\n",
       "      <td>8.0</td>\n",
       "      <td>4-hydroxy-7-methoxy-3-nitrochromen-2-one Colli...</td>\n",
       "      <td>236.02</td>\n",
       "      <td>\"InChI=1S/C10H7NO6/c1-16-5-2-3-6-7(4-5)17-10(1...</td>\n",
       "      <td>COc1ccc2c(O)c([N+](=O)[O-])c(=O)oc2c1</td>\n",
       "      <td>CCMSLIB00010119964</td>\n",
       "      <td>...</td>\n",
       "      <td>190.928309</td>\n",
       "      <td>2.217636e+06</td>\n",
       "      <td>1.0</td>\n",
       "      <td>20</td>\n",
       "      <td>191050.298035</td>\n",
       "      <td>0.258065</td>\n",
       "      <td>0.421053</td>\n",
       "      <td>10.0</td>\n",
       "      <td>3.0</td>\n",
       "      <td>8.0</td>\n",
       "    </tr>\n",
       "    <tr>\n",
       "      <th>3</th>\n",
       "      <td>639207.0</td>\n",
       "      <td>178.0</td>\n",
       "      <td>9.0</td>\n",
       "      <td>0.539229</td>\n",
       "      <td>5.0</td>\n",
       "      <td>4-hydroxy-7-methoxy-3-nitrochromen-2-one Colli...</td>\n",
       "      <td>236.02</td>\n",
       "      <td>\"InChI=1S/C10H7NO6/c1-16-5-2-3-6-7(4-5)17-10(1...</td>\n",
       "      <td>COc1ccc2c(O)c([N+](=O)[O-])c(=O)oc2c1</td>\n",
       "      <td>CCMSLIB00010119964</td>\n",
       "      <td>...</td>\n",
       "      <td>102.948654</td>\n",
       "      <td>2.124078e+06</td>\n",
       "      <td>NaN</td>\n",
       "      <td>11</td>\n",
       "      <td>563813.854017</td>\n",
       "      <td>0.200000</td>\n",
       "      <td>0.454545</td>\n",
       "      <td>39.0</td>\n",
       "      <td>6.0</td>\n",
       "      <td>18.0</td>\n",
       "    </tr>\n",
       "    <tr>\n",
       "      <th>4</th>\n",
       "      <td>639237.0</td>\n",
       "      <td>178.0</td>\n",
       "      <td>39.0</td>\n",
       "      <td>0.583135</td>\n",
       "      <td>9.0</td>\n",
       "      <td>4-hydroxy-7-methoxy-3-nitrochromen-2-one Colli...</td>\n",
       "      <td>236.02</td>\n",
       "      <td>\"InChI=1S/C10H7NO6/c1-16-5-2-3-6-7(4-5)17-10(1...</td>\n",
       "      <td>COc1ccc2c(O)c([N+](=O)[O-])c(=O)oc2c1</td>\n",
       "      <td>CCMSLIB00010119964</td>\n",
       "      <td>...</td>\n",
       "      <td>146.965759</td>\n",
       "      <td>2.518475e+06</td>\n",
       "      <td>NaN</td>\n",
       "      <td>21</td>\n",
       "      <td>377316.501664</td>\n",
       "      <td>0.290323</td>\n",
       "      <td>0.473684</td>\n",
       "      <td>21.0</td>\n",
       "      <td>2.0</td>\n",
       "      <td>5.0</td>\n",
       "    </tr>\n",
       "  </tbody>\n",
       "</table>\n",
       "<p>5 rows × 24 columns</p>\n",
       "</div>"
      ],
      "text/plain": [
       "   raveled_index  query   ref     score  matches  \\\n",
       "0       639201.0  178.0   3.0  0.570615      7.0   \n",
       "1       639202.0  178.0   4.0  0.568388      7.0   \n",
       "2       639203.0  178.0   5.0  0.607461      8.0   \n",
       "3       639207.0  178.0   9.0  0.539229      5.0   \n",
       "4       639237.0  178.0  39.0  0.583135      9.0   \n",
       "\n",
       "                                          name_query  precursor_mz_query  \\\n",
       "0  4-hydroxy-7-methoxy-3-nitrochromen-2-one Colli...              236.02   \n",
       "1  4-hydroxy-7-methoxy-3-nitrochromen-2-one Colli...              236.02   \n",
       "2  4-hydroxy-7-methoxy-3-nitrochromen-2-one Colli...              236.02   \n",
       "3  4-hydroxy-7-methoxy-3-nitrochromen-2-one Colli...              236.02   \n",
       "4  4-hydroxy-7-methoxy-3-nitrochromen-2-one Colli...              236.02   \n",
       "\n",
       "                                         inchi_query  \\\n",
       "0  \"InChI=1S/C10H7NO6/c1-16-5-2-3-6-7(4-5)17-10(1...   \n",
       "1  \"InChI=1S/C10H7NO6/c1-16-5-2-3-6-7(4-5)17-10(1...   \n",
       "2  \"InChI=1S/C10H7NO6/c1-16-5-2-3-6-7(4-5)17-10(1...   \n",
       "3  \"InChI=1S/C10H7NO6/c1-16-5-2-3-6-7(4-5)17-10(1...   \n",
       "4  \"InChI=1S/C10H7NO6/c1-16-5-2-3-6-7(4-5)17-10(1...   \n",
       "\n",
       "                            smiles_query    spectrumid_query  ...  \\\n",
       "0  COc1ccc2c(O)c([N+](=O)[O-])c(=O)oc2c1  CCMSLIB00010119964  ...   \n",
       "1  COc1ccc2c(O)c([N+](=O)[O-])c(=O)oc2c1  CCMSLIB00010119964  ...   \n",
       "2  COc1ccc2c(O)c([N+](=O)[O-])c(=O)oc2c1  CCMSLIB00010119964  ...   \n",
       "3  COc1ccc2c(O)c([N+](=O)[O-])c(=O)oc2c1  CCMSLIB00010119964  ...   \n",
       "4  COc1ccc2c(O)c([N+](=O)[O-])c(=O)oc2c1  CCMSLIB00010119964  ...   \n",
       "\n",
       "   precursor_mz_ref         i_ref  charge_ref  num_ions_ref  \\\n",
       "0        146.965805  2.494821e+06         NaN            18   \n",
       "1        146.938599  3.187073e+06         NaN            19   \n",
       "2        190.928309  2.217636e+06         1.0            20   \n",
       "3        102.948654  2.124078e+06         NaN            11   \n",
       "4        146.965759  2.518475e+06         NaN            21   \n",
       "\n",
       "   precursor_ppm_diff  jaccard_matches  overlap_matches  score_rank  \\\n",
       "0       377316.307712         0.233333         0.388889        27.0   \n",
       "1       377431.579388         0.225806         0.368421        28.0   \n",
       "2       191050.298035         0.258065         0.421053        10.0   \n",
       "3       563813.854017         0.200000         0.454545        39.0   \n",
       "4       377316.501664         0.290323         0.473684        21.0   \n",
       "\n",
       "   matches_rank  jaccard_matches_rank  \n",
       "0           4.0                  11.0  \n",
       "1           4.0                  12.0  \n",
       "2           3.0                   8.0  \n",
       "3           6.0                  18.0  \n",
       "4           2.0                   5.0  \n",
       "\n",
       "[5 rows x 24 columns]"
      ]
     },
     "execution_count": 20,
     "metadata": {},
     "output_type": "execute_result"
    }
   ],
   "source": [
    "df.head()"
   ]
  },
  {
   "cell_type": "code",
   "execution_count": null,
   "id": "87a90cff-342c-4847-878f-512ef4c84a84",
   "metadata": {},
   "outputs": [],
   "source": []
  }
 ],
 "metadata": {
  "kernelspec": {
   "display_name": "blink-env",
   "language": "python",
   "name": "blink-env"
  },
  "language_info": {
   "codemirror_mode": {
    "name": "ipython",
    "version": 3
   },
   "file_extension": ".py",
   "mimetype": "text/x-python",
   "name": "python",
   "nbconvert_exporter": "python",
   "pygments_lexer": "ipython3",
   "version": "3.7.13"
  }
 },
 "nbformat": 4,
 "nbformat_minor": 5
}
